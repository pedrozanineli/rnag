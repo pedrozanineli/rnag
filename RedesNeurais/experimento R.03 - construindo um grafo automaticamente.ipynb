{
 "cells": [
  {
   "cell_type": "markdown",
   "metadata": {},
   "source": [
    "Construindo um grafo automaticamente\n",
    "====================================\n",
    "\n"
   ]
  },
  {
   "cell_type": "markdown",
   "metadata": {},
   "source": [
    "## Introdução\n",
    "\n"
   ]
  },
  {
   "cell_type": "markdown",
   "metadata": {},
   "source": [
    "Neste notebook nós vamos dar o primeiro passo para construir nossa rede neural artificial. Neste primeiro passo, nós vamos criar uma classe que gera automaticamente o nosso `grafo computacional`. O grafo computacional é o grafo que representa todas as operações matemáticas que ocorreram ao se computar um certo valor $y$. O grafo computacional é um passo necessário pois será baseado nele que iremos computar os gradientes locais necessários para realizar o `backpropagation`.\n",
    "\n"
   ]
  },
  {
   "cell_type": "markdown",
   "metadata": {},
   "source": [
    "## Importações\n",
    "\n"
   ]
  },
  {
   "cell_type": "code",
   "execution_count": 1,
   "metadata": {
    "tags": []
   },
   "outputs": [],
   "source": [
    "from funcoes import plota_grafo"
   ]
  },
  {
   "cell_type": "markdown",
   "metadata": {},
   "source": [
    "## Código e discussão\n",
    "\n"
   ]
  },
  {
   "cell_type": "markdown",
   "metadata": {},
   "source": [
    "### Primeiros passos\n",
    "\n"
   ]
  },
  {
   "cell_type": "markdown",
   "metadata": {},
   "source": [
    "A base de tudo será uma classe chamada `Valor`. Vamos começar pelo básico!\n",
    "\n"
   ]
  },
  {
   "cell_type": "code",
   "execution_count": 2,
   "metadata": {
    "tags": []
   },
   "outputs": [],
   "source": [
    "class Valor:\n",
    "    def __init__(self, data):\n",
    "        self.data = data\n",
    "\n",
    "    def __repr__(self):\n",
    "        return f\"Valor(data={self.data})\""
   ]
  },
  {
   "cell_type": "markdown",
   "metadata": {},
   "source": [
    "Vamos testar nossa classe!\n",
    "\n"
   ]
  },
  {
   "cell_type": "code",
   "execution_count": 3,
   "metadata": {
    "tags": []
   },
   "outputs": [
    {
     "name": "stdout",
     "output_type": "stream",
     "text": [
      "Valor(data=10)\n",
      "10\n"
     ]
    }
   ],
   "source": [
    "x1 = Valor(10)\n",
    "print(x1)\n",
    "print(x1.data)"
   ]
  },
  {
   "cell_type": "markdown",
   "metadata": {},
   "source": [
    "### Os dunders `__add__` e `__mul__`\n",
    "\n"
   ]
  },
  {
   "cell_type": "markdown",
   "metadata": {},
   "source": [
    "Observe que não conseguimos adicionar nem multiplicar objetos criados com a classe `Valor`.\n",
    "\n"
   ]
  },
  {
   "cell_type": "code",
   "execution_count": 4,
   "metadata": {
    "tags": []
   },
   "outputs": [],
   "source": [
    "a = Valor(10)\n",
    "b = Valor(5)"
   ]
  },
  {
   "cell_type": "code",
   "execution_count": 5,
   "metadata": {
    "tags": []
   },
   "outputs": [
    {
     "ename": "TypeError",
     "evalue": "unsupported operand type(s) for +: 'Valor' and 'Valor'",
     "output_type": "error",
     "traceback": [
      "\u001b[0;31m---------------------------------------------------------------------------\u001b[0m",
      "\u001b[0;31mTypeError\u001b[0m                                 Traceback (most recent call last)",
      "Cell \u001b[0;32mIn[5], line 1\u001b[0m\n\u001b[0;32m----> 1\u001b[0m \u001b[38;5;28mprint\u001b[39m(\u001b[43ma\u001b[49m\u001b[43m \u001b[49m\u001b[38;5;241;43m+\u001b[39;49m\u001b[43m \u001b[49m\u001b[43mb\u001b[49m)\n",
      "\u001b[0;31mTypeError\u001b[0m: unsupported operand type(s) for +: 'Valor' and 'Valor'"
     ]
    }
   ],
   "source": [
    "print(a + b)"
   ]
  },
  {
   "cell_type": "code",
   "execution_count": 6,
   "metadata": {
    "tags": []
   },
   "outputs": [
    {
     "ename": "TypeError",
     "evalue": "unsupported operand type(s) for *: 'Valor' and 'Valor'",
     "output_type": "error",
     "traceback": [
      "\u001b[0;31m---------------------------------------------------------------------------\u001b[0m",
      "\u001b[0;31mTypeError\u001b[0m                                 Traceback (most recent call last)",
      "Cell \u001b[0;32mIn[6], line 1\u001b[0m\n\u001b[0;32m----> 1\u001b[0m \u001b[38;5;28mprint\u001b[39m(\u001b[43ma\u001b[49m\u001b[43m \u001b[49m\u001b[38;5;241;43m*\u001b[39;49m\u001b[43m \u001b[49m\u001b[43mb\u001b[49m)\n",
      "\u001b[0;31mTypeError\u001b[0m: unsupported operand type(s) for *: 'Valor' and 'Valor'"
     ]
    }
   ],
   "source": [
    "print(a * b)"
   ]
  },
  {
   "cell_type": "markdown",
   "metadata": {},
   "source": [
    "Ué&#x2026; porque não conseguimos? Não conseguimos pois o Python (ainda) não é vidente. Ele lá vai saber como adicionar ou multiplicar algo que você criou? Pra você parece óbvio que valores podem ser adicionados ou multiplicados, mas para o Python ele nem sabe o que significa a palavra `Valor`&#x2026;\n",
    "\n",
    "Como sempre, temos que contar para o programa o que queremos que aconteça quando usarmos os operadores `+` e `*`. Quem faz isso são os dunders `__add__` e `__mul__`.\n",
    "\n"
   ]
  },
  {
   "cell_type": "code",
   "execution_count": 7,
   "metadata": {
    "tags": []
   },
   "outputs": [],
   "source": [
    "class Valor:\n",
    "    def __init__(self, data):\n",
    "        self.data = data\n",
    "\n",
    "    def __repr__(self):\n",
    "        return f\"Valor(data={self.data})\"\n",
    "\n",
    "    def __add__(self, outro_valor):\n",
    "        saida = Valor(self.data + outro_valor.data)\n",
    "        return saida\n",
    "\n",
    "    def __mul__(self, outro_valor):\n",
    "        saida = Valor(self.data * outro_valor.data)\n",
    "        return saida"
   ]
  },
  {
   "cell_type": "markdown",
   "metadata": {},
   "source": [
    "Vamos testar!\n",
    "\n"
   ]
  },
  {
   "cell_type": "code",
   "execution_count": 8,
   "metadata": {
    "tags": []
   },
   "outputs": [
    {
     "name": "stdout",
     "output_type": "stream",
     "text": [
      "Valor(data=15)\n",
      "Valor(data=50)\n"
     ]
    }
   ],
   "source": [
    "a = Valor(10)\n",
    "b = Valor(5)\n",
    "\n",
    "print(a + b)\n",
    "print(a * b)"
   ]
  },
  {
   "cell_type": "markdown",
   "metadata": {},
   "source": [
    "### Registrando os progenitores\n",
    "\n"
   ]
  },
  {
   "cell_type": "markdown",
   "metadata": {},
   "source": [
    "Nosso objetivo é construir um grafo computacional. Em um grafo computacional, um certo vértice pode ter um ou mais vértices progenitores (são seus pais/mães). Nós não podemos perder essa informação quando formos construir um grafo, então precisamos incluir essa informação na nossa classe.\n",
    "\n"
   ]
  },
  {
   "cell_type": "code",
   "execution_count": 9,
   "metadata": {
    "tags": []
   },
   "outputs": [],
   "source": [
    "class Valor:\n",
    "    def __init__(self, data, progenitor=()):\n",
    "        self.data = data\n",
    "        self.progenitor = progenitor\n",
    "\n",
    "    def __repr__(self):\n",
    "        return f\"Valor(data={self.data})\"\n",
    "\n",
    "    def __add__(self, outro_valor):\n",
    "        data = self.data + outro_valor.data\n",
    "        progenitor = (self, outro_valor)\n",
    "        saida = Valor(data, progenitor)\n",
    "        return saida\n",
    "\n",
    "    def __mul__(self, outro_valor):\n",
    "        data = self.data * outro_valor.data\n",
    "        progenitor = (self, outro_valor)\n",
    "        saida = Valor(data, progenitor)\n",
    "        return saida"
   ]
  },
  {
   "cell_type": "markdown",
   "metadata": {},
   "source": [
    "Vamos testar!\n",
    "\n"
   ]
  },
  {
   "cell_type": "code",
   "execution_count": 10,
   "metadata": {
    "tags": []
   },
   "outputs": [
    {
     "name": "stdout",
     "output_type": "stream",
     "text": [
      "10\n",
      "()\n",
      "(Valor(data=10), Valor(data=5))\n",
      "(Valor(data=15), Valor(data=10))\n"
     ]
    }
   ],
   "source": [
    "a = Valor(10)\n",
    "b = Valor(5)\n",
    "\n",
    "print(a.data)\n",
    "print(a.progenitor)\n",
    "\n",
    "c = a + b\n",
    "\n",
    "print(c.progenitor)\n",
    "\n",
    "d = c * a\n",
    "\n",
    "print(d.progenitor)"
   ]
  },
  {
   "cell_type": "markdown",
   "metadata": {},
   "source": [
    "### Registrando o operador mãe\n",
    "\n"
   ]
  },
  {
   "cell_type": "markdown",
   "metadata": {},
   "source": [
    "Em um grafo computacional, um vértice pode ter um operador mãe. O operador mãe é o operador que foi usado para gerar o vértice.\n",
    "\n"
   ]
  },
  {
   "cell_type": "code",
   "execution_count": 11,
   "metadata": {
    "tags": []
   },
   "outputs": [],
   "source": [
    "class Valor:\n",
    "    def __init__(self, data, progenitor=(), operador_mae=\"\"):\n",
    "        self.data = data\n",
    "        self.progenitor = progenitor\n",
    "        self.operador_mae = operador_mae\n",
    "\n",
    "    def __repr__(self):\n",
    "        return f\"Valor(data={self.data})\"\n",
    "\n",
    "    def __add__(self, outro_valor):\n",
    "        data = self.data + outro_valor.data\n",
    "        progenitor = (self, outro_valor)\n",
    "        operador_mae = \"+\"\n",
    "        saida = Valor(data, progenitor, operador_mae)\n",
    "        return saida\n",
    "\n",
    "    def __mul__(self, outro_valor):\n",
    "        data = self.data * outro_valor.data\n",
    "        progenitor = (self, outro_valor)\n",
    "        operador_mae = \"*\"\n",
    "        saida = Valor(data, progenitor, operador_mae)\n",
    "        return saida"
   ]
  },
  {
   "cell_type": "markdown",
   "metadata": {},
   "source": [
    "Vamos testar!\n",
    "\n"
   ]
  },
  {
   "cell_type": "code",
   "execution_count": 12,
   "metadata": {
    "tags": []
   },
   "outputs": [
    {
     "name": "stdout",
     "output_type": "stream",
     "text": [
      "Valor(data=15)\n",
      "(Valor(data=10), Valor(data=5))\n",
      "+\n"
     ]
    }
   ],
   "source": [
    "a = Valor(10)\n",
    "b = Valor(5)\n",
    "\n",
    "c = a + b\n",
    "d = c * a\n",
    "\n",
    "print(c)\n",
    "print(c.progenitor)\n",
    "print(c.operador_mae)"
   ]
  },
  {
   "cell_type": "markdown",
   "metadata": {},
   "source": [
    "### Plotando o primeiro grafo\n",
    "\n"
   ]
  },
  {
   "cell_type": "markdown",
   "metadata": {},
   "source": [
    "Vamos plotar nosso primeiro grafo!\n",
    "\n"
   ]
  },
  {
   "cell_type": "code",
   "execution_count": 13,
   "metadata": {
    "tags": []
   },
   "outputs": [
    {
     "data": {
      "image/svg+xml": [
       "<?xml version=\"1.0\" encoding=\"UTF-8\" standalone=\"no\"?>\n",
       "<!DOCTYPE svg PUBLIC \"-//W3C//DTD SVG 1.1//EN\"\n",
       " \"http://www.w3.org/Graphics/SVG/1.1/DTD/svg11.dtd\">\n",
       "<!-- Generated by graphviz version 2.43.0 (0)\n",
       " -->\n",
       "<!-- Title: %3 Pages: 1 -->\n",
       "<svg width=\"580pt\" height=\"128pt\"\n",
       " viewBox=\"0.00 0.00 580.00 128.00\" xmlns=\"http://www.w3.org/2000/svg\" xmlns:xlink=\"http://www.w3.org/1999/xlink\">\n",
       "<g id=\"graph0\" class=\"graph\" transform=\"scale(1 1) rotate(0) translate(4 124)\">\n",
       "<title>%3</title>\n",
       "<polygon fill=\"white\" stroke=\"transparent\" points=\"-4,4 -4,-124 576,-124 576,4 -4,4\"/>\n",
       "<!-- 140565959280672 -->\n",
       "<g id=\"node1\" class=\"node\">\n",
       "<title>140565959280672</title>\n",
       "<polygon fill=\"none\" stroke=\"black\" points=\"2.5,-83.5 2.5,-119.5 104.5,-119.5 104.5,-83.5 2.5,-83.5\"/>\n",
       "<text text-anchor=\"middle\" x=\"53.5\" y=\"-97.8\" font-family=\"Times,serif\" font-size=\"14.00\">data 2.0000</text>\n",
       "</g>\n",
       "<!-- 140565959279856* -->\n",
       "<g id=\"node4\" class=\"node\">\n",
       "<title>140565959279856*</title>\n",
       "<ellipse fill=\"none\" stroke=\"black\" cx=\"170\" cy=\"-73.5\" rx=\"27\" ry=\"18\"/>\n",
       "<text text-anchor=\"middle\" x=\"170\" y=\"-69.8\" font-family=\"Times,serif\" font-size=\"14.00\">*</text>\n",
       "</g>\n",
       "<!-- 140565959280672&#45;&gt;140565959279856* -->\n",
       "<g id=\"edge6\" class=\"edge\">\n",
       "<title>140565959280672&#45;&gt;140565959279856*</title>\n",
       "<path fill=\"none\" stroke=\"black\" d=\"M104.72,-89.22C114.78,-86.76 125.14,-84.23 134.52,-81.93\"/>\n",
       "<polygon fill=\"black\" stroke=\"black\" points=\"135.37,-85.33 144.25,-79.55 133.71,-78.53 135.37,-85.33\"/>\n",
       "</g>\n",
       "<!-- 140565959282304 -->\n",
       "<g id=\"node2\" class=\"node\">\n",
       "<title>140565959282304</title>\n",
       "<polygon fill=\"none\" stroke=\"black\" points=\"233,-0.5 233,-36.5 344,-36.5 344,-0.5 233,-0.5\"/>\n",
       "<text text-anchor=\"middle\" x=\"288.5\" y=\"-14.8\" font-family=\"Times,serif\" font-size=\"14.00\">data 10.0000</text>\n",
       "</g>\n",
       "<!-- 140566029959024+ -->\n",
       "<g id=\"node6\" class=\"node\">\n",
       "<title>140566029959024+</title>\n",
       "<ellipse fill=\"none\" stroke=\"black\" cx=\"407\" cy=\"-45.5\" rx=\"27\" ry=\"18\"/>\n",
       "<text text-anchor=\"middle\" x=\"407\" y=\"-41.8\" font-family=\"Times,serif\" font-size=\"14.00\">+</text>\n",
       "</g>\n",
       "<!-- 140565959282304&#45;&gt;140566029959024+ -->\n",
       "<g id=\"edge5\" class=\"edge\">\n",
       "<title>140565959282304&#45;&gt;140566029959024+</title>\n",
       "<path fill=\"none\" stroke=\"black\" d=\"M344.34,-31.21C353.57,-33.35 362.91,-35.51 371.44,-37.49\"/>\n",
       "<polygon fill=\"black\" stroke=\"black\" points=\"370.85,-40.95 381.38,-39.79 372.43,-34.13 370.85,-40.95\"/>\n",
       "</g>\n",
       "<!-- 140565959279856 -->\n",
       "<g id=\"node3\" class=\"node\">\n",
       "<title>140565959279856</title>\n",
       "<polygon fill=\"none\" stroke=\"black\" points=\"235,-55.5 235,-91.5 342,-91.5 342,-55.5 235,-55.5\"/>\n",
       "<text text-anchor=\"middle\" x=\"288.5\" y=\"-69.8\" font-family=\"Times,serif\" font-size=\"14.00\">data &#45;6.0000</text>\n",
       "</g>\n",
       "<!-- 140565959279856&#45;&gt;140566029959024+ -->\n",
       "<g id=\"edge4\" class=\"edge\">\n",
       "<title>140565959279856&#45;&gt;140566029959024+</title>\n",
       "<path fill=\"none\" stroke=\"black\" d=\"M342.3,-60.81C352.18,-58.43 362.28,-56.01 371.43,-53.81\"/>\n",
       "<polygon fill=\"black\" stroke=\"black\" points=\"372.41,-57.17 381.31,-51.43 370.77,-50.37 372.41,-57.17\"/>\n",
       "</g>\n",
       "<!-- 140565959279856*&#45;&gt;140565959279856 -->\n",
       "<g id=\"edge1\" class=\"edge\">\n",
       "<title>140565959279856*&#45;&gt;140565959279856</title>\n",
       "<path fill=\"none\" stroke=\"black\" d=\"M197.14,-73.5C205.41,-73.5 214.93,-73.5 224.62,-73.5\"/>\n",
       "<polygon fill=\"black\" stroke=\"black\" points=\"224.74,-77 234.74,-73.5 224.74,-70 224.74,-77\"/>\n",
       "</g>\n",
       "<!-- 140566029959024 -->\n",
       "<g id=\"node5\" class=\"node\">\n",
       "<title>140566029959024</title>\n",
       "<polygon fill=\"none\" stroke=\"black\" points=\"470,-27.5 470,-63.5 572,-63.5 572,-27.5 470,-27.5\"/>\n",
       "<text text-anchor=\"middle\" x=\"521\" y=\"-41.8\" font-family=\"Times,serif\" font-size=\"14.00\">data 4.0000</text>\n",
       "</g>\n",
       "<!-- 140566029959024+&#45;&gt;140566029959024 -->\n",
       "<g id=\"edge2\" class=\"edge\">\n",
       "<title>140566029959024+&#45;&gt;140566029959024</title>\n",
       "<path fill=\"none\" stroke=\"black\" d=\"M434.26,-45.5C441.96,-45.5 450.73,-45.5 459.64,-45.5\"/>\n",
       "<polygon fill=\"black\" stroke=\"black\" points=\"459.71,-49 469.71,-45.5 459.71,-42 459.71,-49\"/>\n",
       "</g>\n",
       "<!-- 140565959286192 -->\n",
       "<g id=\"node7\" class=\"node\">\n",
       "<title>140565959286192</title>\n",
       "<polygon fill=\"none\" stroke=\"black\" points=\"0,-28.5 0,-64.5 107,-64.5 107,-28.5 0,-28.5\"/>\n",
       "<text text-anchor=\"middle\" x=\"53.5\" y=\"-42.8\" font-family=\"Times,serif\" font-size=\"14.00\">data &#45;3.0000</text>\n",
       "</g>\n",
       "<!-- 140565959286192&#45;&gt;140565959279856* -->\n",
       "<g id=\"edge3\" class=\"edge\">\n",
       "<title>140565959286192&#45;&gt;140565959279856*</title>\n",
       "<path fill=\"none\" stroke=\"black\" d=\"M107.06,-58.89C116.25,-61.06 125.61,-63.27 134.17,-65.29\"/>\n",
       "<polygon fill=\"black\" stroke=\"black\" points=\"133.62,-68.75 144.16,-67.64 135.23,-61.94 133.62,-68.75\"/>\n",
       "</g>\n",
       "</g>\n",
       "</svg>\n"
      ],
      "text/plain": [
       "<graphviz.graphs.Digraph at 0x7fd7fa727760>"
      ]
     },
     "execution_count": 13,
     "metadata": {},
     "output_type": "execute_result"
    }
   ],
   "source": [
    "a = Valor(2)\n",
    "b = Valor(-3)\n",
    "c = Valor(10)\n",
    "\n",
    "d = a * b\n",
    "e = d + c\n",
    "\n",
    "plota_grafo(e)"
   ]
  },
  {
   "cell_type": "markdown",
   "metadata": {},
   "source": [
    "### Registrando o rótulo\n",
    "\n"
   ]
  },
  {
   "cell_type": "markdown",
   "metadata": {},
   "source": [
    "Nosso grafo seria mais legível se tivéssemos rótulos indicando o que é cada vértice. Vamos incluir essa informação na nossa classe.\n",
    "\n"
   ]
  },
  {
   "cell_type": "code",
   "execution_count": 14,
   "metadata": {
    "tags": []
   },
   "outputs": [],
   "source": [
    "class Valor:\n",
    "    def __init__(self, data, progenitor=(), operador_mae=\"\", rotulo=\"\"):\n",
    "        self.data = data\n",
    "        self.progenitor = progenitor\n",
    "        self.operador_mae = operador_mae\n",
    "        self.rotulo = rotulo\n",
    "\n",
    "    def __repr__(self):\n",
    "        return f\"Valor(data={self.data})\"\n",
    "\n",
    "    def __add__(self, outro_valor):\n",
    "        data = self.data + outro_valor.data\n",
    "        progenitor = (self, outro_valor)\n",
    "        operador_mae = \"+\"\n",
    "        saida = Valor(data, progenitor, operador_mae)\n",
    "        return saida\n",
    "\n",
    "    def __mul__(self, outro_valor):\n",
    "        data = self.data * outro_valor.data\n",
    "        progenitor = (self, outro_valor)\n",
    "        operador_mae = \"*\"\n",
    "        saida = Valor(data, progenitor, operador_mae)\n",
    "        return saida"
   ]
  },
  {
   "cell_type": "markdown",
   "metadata": {},
   "source": [
    "Vamos testar!\n",
    "\n"
   ]
  },
  {
   "cell_type": "code",
   "execution_count": 15,
   "metadata": {
    "tags": []
   },
   "outputs": [
    {
     "data": {
      "image/svg+xml": [
       "<?xml version=\"1.0\" encoding=\"UTF-8\" standalone=\"no\"?>\n",
       "<!DOCTYPE svg PUBLIC \"-//W3C//DTD SVG 1.1//EN\"\n",
       " \"http://www.w3.org/Graphics/SVG/1.1/DTD/svg11.dtd\">\n",
       "<!-- Generated by graphviz version 2.43.0 (0)\n",
       " -->\n",
       "<!-- Title: %3 Pages: 1 -->\n",
       "<svg width=\"655pt\" height=\"127pt\"\n",
       " viewBox=\"0.00 0.00 655.00 127.00\" xmlns=\"http://www.w3.org/2000/svg\" xmlns:xlink=\"http://www.w3.org/1999/xlink\">\n",
       "<g id=\"graph0\" class=\"graph\" transform=\"scale(1 1) rotate(0) translate(4 123)\">\n",
       "<title>%3</title>\n",
       "<polygon fill=\"white\" stroke=\"transparent\" points=\"-4,4 -4,-123 651,-123 651,4 -4,4\"/>\n",
       "<!-- 140565961797120 -->\n",
       "<g id=\"node1\" class=\"node\">\n",
       "<title>140565961797120</title>\n",
       "<polygon fill=\"none\" stroke=\"black\" points=\"260,-27.5 260,-63.5 393,-63.5 393,-27.5 260,-27.5\"/>\n",
       "<text text-anchor=\"middle\" x=\"273\" y=\"-41.8\" font-family=\"Times,serif\" font-size=\"14.00\">d</text>\n",
       "<polyline fill=\"none\" stroke=\"black\" points=\"286,-27.5 286,-63.5 \"/>\n",
       "<text text-anchor=\"middle\" x=\"339.5\" y=\"-41.8\" font-family=\"Times,serif\" font-size=\"14.00\">data &#45;6.0000</text>\n",
       "</g>\n",
       "<!-- 140565961797072+ -->\n",
       "<g id=\"node6\" class=\"node\">\n",
       "<title>140565961797072+</title>\n",
       "<ellipse fill=\"none\" stroke=\"black\" cx=\"457\" cy=\"-72.5\" rx=\"27\" ry=\"18\"/>\n",
       "<text text-anchor=\"middle\" x=\"457\" y=\"-68.8\" font-family=\"Times,serif\" font-size=\"14.00\">+</text>\n",
       "</g>\n",
       "<!-- 140565961797120&#45;&gt;140565961797072+ -->\n",
       "<g id=\"edge4\" class=\"edge\">\n",
       "<title>140565961797120&#45;&gt;140565961797072+</title>\n",
       "<path fill=\"none\" stroke=\"black\" d=\"M393.26,-59.32C402.83,-61.33 412.35,-63.33 420.98,-65.14\"/>\n",
       "<polygon fill=\"black\" stroke=\"black\" points=\"420.5,-68.62 431.01,-67.25 421.94,-61.77 420.5,-68.62\"/>\n",
       "</g>\n",
       "<!-- 140565961797120* -->\n",
       "<g id=\"node2\" class=\"node\">\n",
       "<title>140565961797120*</title>\n",
       "<ellipse fill=\"none\" stroke=\"black\" cx=\"196\" cy=\"-45.5\" rx=\"27\" ry=\"18\"/>\n",
       "<text text-anchor=\"middle\" x=\"196\" y=\"-41.8\" font-family=\"Times,serif\" font-size=\"14.00\">*</text>\n",
       "</g>\n",
       "<!-- 140565961797120*&#45;&gt;140565961797120 -->\n",
       "<g id=\"edge1\" class=\"edge\">\n",
       "<title>140565961797120*&#45;&gt;140565961797120</title>\n",
       "<path fill=\"none\" stroke=\"black\" d=\"M223,-45.5C231,-45.5 240.25,-45.5 249.85,-45.5\"/>\n",
       "<polygon fill=\"black\" stroke=\"black\" points=\"249.94,-49 259.94,-45.5 249.94,-42 249.94,-49\"/>\n",
       "</g>\n",
       "<!-- 140565959726736 -->\n",
       "<g id=\"node3\" class=\"node\">\n",
       "<title>140565959726736</title>\n",
       "<polygon fill=\"none\" stroke=\"black\" points=\"0,-55.5 0,-91.5 133,-91.5 133,-55.5 0,-55.5\"/>\n",
       "<text text-anchor=\"middle\" x=\"13\" y=\"-69.8\" font-family=\"Times,serif\" font-size=\"14.00\">b</text>\n",
       "<polyline fill=\"none\" stroke=\"black\" points=\"26,-55.5 26,-91.5 \"/>\n",
       "<text text-anchor=\"middle\" x=\"79.5\" y=\"-69.8\" font-family=\"Times,serif\" font-size=\"14.00\">data &#45;3.0000</text>\n",
       "</g>\n",
       "<!-- 140565959726736&#45;&gt;140565961797120* -->\n",
       "<g id=\"edge5\" class=\"edge\">\n",
       "<title>140565959726736&#45;&gt;140565961797120*</title>\n",
       "<path fill=\"none\" stroke=\"black\" d=\"M133.12,-59.09C142.49,-57.03 151.8,-54.99 160.25,-53.13\"/>\n",
       "<polygon fill=\"black\" stroke=\"black\" points=\"161.06,-56.54 170.08,-50.97 159.56,-49.7 161.06,-56.54\"/>\n",
       "</g>\n",
       "<!-- 140565961793424 -->\n",
       "<g id=\"node4\" class=\"node\">\n",
       "<title>140565961793424</title>\n",
       "<polygon fill=\"none\" stroke=\"black\" points=\"259,-82.5 259,-118.5 394,-118.5 394,-82.5 259,-82.5\"/>\n",
       "<text text-anchor=\"middle\" x=\"271\" y=\"-96.8\" font-family=\"Times,serif\" font-size=\"14.00\">c</text>\n",
       "<polyline fill=\"none\" stroke=\"black\" points=\"283,-82.5 283,-118.5 \"/>\n",
       "<text text-anchor=\"middle\" x=\"338.5\" y=\"-96.8\" font-family=\"Times,serif\" font-size=\"14.00\">data 10.0000</text>\n",
       "</g>\n",
       "<!-- 140565961793424&#45;&gt;140565961797072+ -->\n",
       "<g id=\"edge3\" class=\"edge\">\n",
       "<title>140565961793424&#45;&gt;140565961797072+</title>\n",
       "<path fill=\"none\" stroke=\"black\" d=\"M394.01,-86.01C403.41,-83.96 412.75,-81.92 421.22,-80.08\"/>\n",
       "<polygon fill=\"black\" stroke=\"black\" points=\"422.04,-83.48 431.06,-77.93 420.55,-76.64 422.04,-83.48\"/>\n",
       "</g>\n",
       "<!-- 140565961797072 -->\n",
       "<g id=\"node5\" class=\"node\">\n",
       "<title>140565961797072</title>\n",
       "<polygon fill=\"none\" stroke=\"black\" points=\"520,-54.5 520,-90.5 647,-90.5 647,-54.5 520,-54.5\"/>\n",
       "<text text-anchor=\"middle\" x=\"532.5\" y=\"-68.8\" font-family=\"Times,serif\" font-size=\"14.00\">e</text>\n",
       "<polyline fill=\"none\" stroke=\"black\" points=\"545,-54.5 545,-90.5 \"/>\n",
       "<text text-anchor=\"middle\" x=\"596\" y=\"-68.8\" font-family=\"Times,serif\" font-size=\"14.00\">data 4.0000</text>\n",
       "</g>\n",
       "<!-- 140565961797072+&#45;&gt;140565961797072 -->\n",
       "<g id=\"edge2\" class=\"edge\">\n",
       "<title>140565961797072+&#45;&gt;140565961797072</title>\n",
       "<path fill=\"none\" stroke=\"black\" d=\"M484.1,-72.5C491.71,-72.5 500.44,-72.5 509.47,-72.5\"/>\n",
       "<polygon fill=\"black\" stroke=\"black\" points=\"509.76,-76 519.76,-72.5 509.76,-69 509.76,-76\"/>\n",
       "</g>\n",
       "<!-- 140565959724000 -->\n",
       "<g id=\"node7\" class=\"node\">\n",
       "<title>140565959724000</title>\n",
       "<polygon fill=\"none\" stroke=\"black\" points=\"3,-0.5 3,-36.5 130,-36.5 130,-0.5 3,-0.5\"/>\n",
       "<text text-anchor=\"middle\" x=\"15.5\" y=\"-14.8\" font-family=\"Times,serif\" font-size=\"14.00\">a</text>\n",
       "<polyline fill=\"none\" stroke=\"black\" points=\"28,-0.5 28,-36.5 \"/>\n",
       "<text text-anchor=\"middle\" x=\"79\" y=\"-14.8\" font-family=\"Times,serif\" font-size=\"14.00\">data 2.0000</text>\n",
       "</g>\n",
       "<!-- 140565959724000&#45;&gt;140565961797120* -->\n",
       "<g id=\"edge6\" class=\"edge\">\n",
       "<title>140565959724000&#45;&gt;140565961797120*</title>\n",
       "<path fill=\"none\" stroke=\"black\" d=\"M130.13,-31.76C140.38,-33.93 150.67,-36.11 159.93,-38.07\"/>\n",
       "<polygon fill=\"black\" stroke=\"black\" points=\"159.4,-41.54 169.91,-40.19 160.85,-34.69 159.4,-41.54\"/>\n",
       "</g>\n",
       "</g>\n",
       "</svg>\n"
      ],
      "text/plain": [
       "<graphviz.graphs.Digraph at 0x7fd8103970a0>"
      ]
     },
     "execution_count": 15,
     "metadata": {},
     "output_type": "execute_result"
    }
   ],
   "source": [
    "a = Valor(2, rotulo=\"a\")\n",
    "b = Valor(-3, rotulo=\"b\")\n",
    "c = Valor(10, rotulo=\"c\")\n",
    "\n",
    "d = a * b\n",
    "e = d + c\n",
    "\n",
    "d.rotulo = \"d\"\n",
    "e.rotulo = \"e\"\n",
    "\n",
    "plota_grafo(e)"
   ]
  },
  {
   "cell_type": "markdown",
   "metadata": {},
   "source": [
    "### Refazendo o grafo que fizemos na aula anterior\n",
    "\n"
   ]
  },
  {
   "cell_type": "markdown",
   "metadata": {},
   "source": [
    "Na aula anterior nós fizemos um grafo computacional para aprender como funciona o backpropagation. Vamos refazer ele aqui!\n",
    "\n"
   ]
  },
  {
   "cell_type": "code",
   "execution_count": 16,
   "metadata": {
    "tags": []
   },
   "outputs": [
    {
     "data": {
      "image/svg+xml": [
       "<?xml version=\"1.0\" encoding=\"UTF-8\" standalone=\"no\"?>\n",
       "<!DOCTYPE svg PUBLIC \"-//W3C//DTD SVG 1.1//EN\"\n",
       " \"http://www.w3.org/Graphics/SVG/1.1/DTD/svg11.dtd\">\n",
       "<!-- Generated by graphviz version 2.43.0 (0)\n",
       " -->\n",
       "<!-- Title: %3 Pages: 1 -->\n",
       "<svg width=\"1259pt\" height=\"210pt\"\n",
       " viewBox=\"0.00 0.00 1259.00 210.00\" xmlns=\"http://www.w3.org/2000/svg\" xmlns:xlink=\"http://www.w3.org/1999/xlink\">\n",
       "<g id=\"graph0\" class=\"graph\" transform=\"scale(1 1) rotate(0) translate(4 206)\">\n",
       "<title>%3</title>\n",
       "<polygon fill=\"white\" stroke=\"transparent\" points=\"-4,4 -4,-206 1255,-206 1255,4 -4,4\"/>\n",
       "<!-- 140565596407840 -->\n",
       "<g id=\"node1\" class=\"node\">\n",
       "<title>140565596407840</title>\n",
       "<polygon fill=\"none\" stroke=\"black\" points=\"275,-55.5 275,-91.5 428,-91.5 428,-55.5 275,-55.5\"/>\n",
       "<text text-anchor=\"middle\" x=\"291.5\" y=\"-69.8\" font-family=\"Times,serif\" font-size=\"14.00\">s1</text>\n",
       "<polyline fill=\"none\" stroke=\"black\" points=\"308,-55.5 308,-91.5 \"/>\n",
       "<text text-anchor=\"middle\" x=\"368\" y=\"-69.8\" font-family=\"Times,serif\" font-size=\"14.00\">data 600.0000</text>\n",
       "</g>\n",
       "<!-- 140565596416192+ -->\n",
       "<g id=\"node7\" class=\"node\">\n",
       "<title>140565596416192+</title>\n",
       "<ellipse fill=\"none\" stroke=\"black\" cx=\"491\" cy=\"-100.5\" rx=\"27\" ry=\"18\"/>\n",
       "<text text-anchor=\"middle\" x=\"491\" y=\"-96.8\" font-family=\"Times,serif\" font-size=\"14.00\">+</text>\n",
       "</g>\n",
       "<!-- 140565596407840&#45;&gt;140565596416192+ -->\n",
       "<g id=\"edge8\" class=\"edge\">\n",
       "<title>140565596407840&#45;&gt;140565596416192+</title>\n",
       "<path fill=\"none\" stroke=\"black\" d=\"M428.09,-88.34C437.39,-90.17 446.52,-91.96 454.8,-93.59\"/>\n",
       "<polygon fill=\"black\" stroke=\"black\" points=\"454.28,-97.05 464.77,-95.55 455.63,-90.18 454.28,-97.05\"/>\n",
       "</g>\n",
       "<!-- 140565596407840* -->\n",
       "<g id=\"node2\" class=\"node\">\n",
       "<title>140565596407840*</title>\n",
       "<ellipse fill=\"none\" stroke=\"black\" cx=\"212\" cy=\"-73.5\" rx=\"27\" ry=\"18\"/>\n",
       "<text text-anchor=\"middle\" x=\"212\" y=\"-69.8\" font-family=\"Times,serif\" font-size=\"14.00\">*</text>\n",
       "</g>\n",
       "<!-- 140565596407840*&#45;&gt;140565596407840 -->\n",
       "<g id=\"edge1\" class=\"edge\">\n",
       "<title>140565596407840*&#45;&gt;140565596407840</title>\n",
       "<path fill=\"none\" stroke=\"black\" d=\"M239.19,-73.5C246.8,-73.5 255.55,-73.5 264.74,-73.5\"/>\n",
       "<polygon fill=\"black\" stroke=\"black\" points=\"264.85,-77 274.85,-73.5 264.85,-70 264.85,-77\"/>\n",
       "</g>\n",
       "<!-- 140565596414080 -->\n",
       "<g id=\"node3\" class=\"node\">\n",
       "<title>140565596414080</title>\n",
       "<polygon fill=\"none\" stroke=\"black\" points=\"275,-110.5 275,-146.5 428,-146.5 428,-110.5 275,-110.5\"/>\n",
       "<text text-anchor=\"middle\" x=\"291.5\" y=\"-124.8\" font-family=\"Times,serif\" font-size=\"14.00\">s2</text>\n",
       "<polyline fill=\"none\" stroke=\"black\" points=\"308,-110.5 308,-146.5 \"/>\n",
       "<text text-anchor=\"middle\" x=\"368\" y=\"-124.8\" font-family=\"Times,serif\" font-size=\"14.00\">data 120.0000</text>\n",
       "</g>\n",
       "<!-- 140565596414080&#45;&gt;140565596416192+ -->\n",
       "<g id=\"edge9\" class=\"edge\">\n",
       "<title>140565596414080&#45;&gt;140565596416192+</title>\n",
       "<path fill=\"none\" stroke=\"black\" d=\"M428.09,-113.11C437.48,-111.2 446.7,-109.32 455.03,-107.62\"/>\n",
       "<polygon fill=\"black\" stroke=\"black\" points=\"455.97,-111 465.07,-105.58 454.57,-104.14 455.97,-111\"/>\n",
       "</g>\n",
       "<!-- 140565596414080* -->\n",
       "<g id=\"node4\" class=\"node\">\n",
       "<title>140565596414080*</title>\n",
       "<ellipse fill=\"none\" stroke=\"black\" cx=\"212\" cy=\"-128.5\" rx=\"27\" ry=\"18\"/>\n",
       "<text text-anchor=\"middle\" x=\"212\" y=\"-124.8\" font-family=\"Times,serif\" font-size=\"14.00\">*</text>\n",
       "</g>\n",
       "<!-- 140565596414080*&#45;&gt;140565596414080 -->\n",
       "<g id=\"edge2\" class=\"edge\">\n",
       "<title>140565596414080*&#45;&gt;140565596414080</title>\n",
       "<path fill=\"none\" stroke=\"black\" d=\"M239.19,-128.5C246.8,-128.5 255.55,-128.5 264.74,-128.5\"/>\n",
       "<polygon fill=\"black\" stroke=\"black\" points=\"264.85,-132 274.85,-128.5 264.85,-125 264.85,-132\"/>\n",
       "</g>\n",
       "<!-- 140565596407984 -->\n",
       "<g id=\"node5\" class=\"node\">\n",
       "<title>140565596407984</title>\n",
       "<polygon fill=\"none\" stroke=\"black\" points=\"828.5,-164.5 828.5,-200.5 968.5,-200.5 968.5,-164.5 828.5,-164.5\"/>\n",
       "<text text-anchor=\"middle\" x=\"847.5\" y=\"-178.8\" font-family=\"Times,serif\" font-size=\"14.00\">w3</text>\n",
       "<polyline fill=\"none\" stroke=\"black\" points=\"866.5,-164.5 866.5,-200.5 \"/>\n",
       "<text text-anchor=\"middle\" x=\"917.5\" y=\"-178.8\" font-family=\"Times,serif\" font-size=\"14.00\">data 2.0000</text>\n",
       "</g>\n",
       "<!-- 140565596408656* -->\n",
       "<g id=\"node13\" class=\"node\">\n",
       "<title>140565596408656*</title>\n",
       "<ellipse fill=\"none\" stroke=\"black\" cx=\"1034\" cy=\"-154.5\" rx=\"27\" ry=\"18\"/>\n",
       "<text text-anchor=\"middle\" x=\"1034\" y=\"-150.8\" font-family=\"Times,serif\" font-size=\"14.00\">*</text>\n",
       "</g>\n",
       "<!-- 140565596407984&#45;&gt;140565596408656* -->\n",
       "<g id=\"edge10\" class=\"edge\">\n",
       "<title>140565596407984&#45;&gt;140565596408656*</title>\n",
       "<path fill=\"none\" stroke=\"black\" d=\"M968.6,-168.01C978.86,-165.86 989.05,-163.72 998.19,-161.8\"/>\n",
       "<polygon fill=\"black\" stroke=\"black\" points=\"998.95,-165.22 1008.01,-159.74 997.51,-158.37 998.95,-165.22\"/>\n",
       "</g>\n",
       "<!-- 140565596416192 -->\n",
       "<g id=\"node6\" class=\"node\">\n",
       "<title>140565596416192</title>\n",
       "<polygon fill=\"none\" stroke=\"black\" points=\"554,-82.5 554,-118.5 700,-118.5 700,-82.5 554,-82.5\"/>\n",
       "<text text-anchor=\"middle\" x=\"567\" y=\"-96.8\" font-family=\"Times,serif\" font-size=\"14.00\">n</text>\n",
       "<polyline fill=\"none\" stroke=\"black\" points=\"580,-82.5 580,-118.5 \"/>\n",
       "<text text-anchor=\"middle\" x=\"640\" y=\"-96.8\" font-family=\"Times,serif\" font-size=\"14.00\">data 720.0000</text>\n",
       "</g>\n",
       "<!-- 140565596410144+ -->\n",
       "<g id=\"node10\" class=\"node\">\n",
       "<title>140565596410144+</title>\n",
       "<ellipse fill=\"none\" stroke=\"black\" cx=\"763\" cy=\"-127.5\" rx=\"27\" ry=\"18\"/>\n",
       "<text text-anchor=\"middle\" x=\"763\" y=\"-123.8\" font-family=\"Times,serif\" font-size=\"14.00\">+</text>\n",
       "</g>\n",
       "<!-- 140565596416192&#45;&gt;140565596410144+ -->\n",
       "<g id=\"edge11\" class=\"edge\">\n",
       "<title>140565596416192&#45;&gt;140565596410144+</title>\n",
       "<path fill=\"none\" stroke=\"black\" d=\"M700.1,-115.03C709.42,-116.91 718.61,-118.76 726.94,-120.44\"/>\n",
       "<polygon fill=\"black\" stroke=\"black\" points=\"726.48,-123.91 736.97,-122.46 727.86,-117.05 726.48,-123.91\"/>\n",
       "</g>\n",
       "<!-- 140565596416192+&#45;&gt;140565596416192 -->\n",
       "<g id=\"edge3\" class=\"edge\">\n",
       "<title>140565596416192+&#45;&gt;140565596416192</title>\n",
       "<path fill=\"none\" stroke=\"black\" d=\"M518.15,-100.5C525.82,-100.5 534.63,-100.5 543.85,-100.5\"/>\n",
       "<polygon fill=\"black\" stroke=\"black\" points=\"543.98,-104 553.98,-100.5 543.98,-97 543.98,-104\"/>\n",
       "</g>\n",
       "<!-- 140566030823152 -->\n",
       "<g id=\"node8\" class=\"node\">\n",
       "<title>140566030823152</title>\n",
       "<polygon fill=\"none\" stroke=\"black\" points=\"2,-55.5 2,-91.5 147,-91.5 147,-55.5 2,-55.5\"/>\n",
       "<text text-anchor=\"middle\" x=\"19\" y=\"-69.8\" font-family=\"Times,serif\" font-size=\"14.00\">x1</text>\n",
       "<polyline fill=\"none\" stroke=\"black\" points=\"36,-55.5 36,-91.5 \"/>\n",
       "<text text-anchor=\"middle\" x=\"91.5\" y=\"-69.8\" font-family=\"Times,serif\" font-size=\"14.00\">data 60.0000</text>\n",
       "</g>\n",
       "<!-- 140566030823152&#45;&gt;140565596407840* -->\n",
       "<g id=\"edge7\" class=\"edge\">\n",
       "<title>140566030823152&#45;&gt;140565596407840*</title>\n",
       "<path fill=\"none\" stroke=\"black\" d=\"M147.22,-73.5C156.68,-73.5 166.04,-73.5 174.55,-73.5\"/>\n",
       "<polygon fill=\"black\" stroke=\"black\" points=\"174.83,-77 184.83,-73.5 174.83,-70 174.83,-77\"/>\n",
       "</g>\n",
       "<!-- 140565596410144 -->\n",
       "<g id=\"node9\" class=\"node\">\n",
       "<title>140565596410144</title>\n",
       "<polygon fill=\"none\" stroke=\"black\" points=\"826,-109.5 826,-145.5 971,-145.5 971,-109.5 826,-109.5\"/>\n",
       "<text text-anchor=\"middle\" x=\"838.5\" y=\"-123.8\" font-family=\"Times,serif\" font-size=\"14.00\">k</text>\n",
       "<polyline fill=\"none\" stroke=\"black\" points=\"851,-109.5 851,-145.5 \"/>\n",
       "<text text-anchor=\"middle\" x=\"911\" y=\"-123.8\" font-family=\"Times,serif\" font-size=\"14.00\">data 727.0000</text>\n",
       "</g>\n",
       "<!-- 140565596410144&#45;&gt;140565596408656* -->\n",
       "<g id=\"edge15\" class=\"edge\">\n",
       "<title>140565596410144&#45;&gt;140565596408656*</title>\n",
       "<path fill=\"none\" stroke=\"black\" d=\"M971.33,-142.03C980.62,-143.91 989.77,-145.76 998.07,-147.44\"/>\n",
       "<polygon fill=\"black\" stroke=\"black\" points=\"997.57,-150.91 1008.07,-149.46 998.96,-144.04 997.57,-150.91\"/>\n",
       "</g>\n",
       "<!-- 140565596410144+&#45;&gt;140565596410144 -->\n",
       "<g id=\"edge4\" class=\"edge\">\n",
       "<title>140565596410144+&#45;&gt;140565596410144</title>\n",
       "<path fill=\"none\" stroke=\"black\" d=\"M790.06,-127.5C797.69,-127.5 806.47,-127.5 815.66,-127.5\"/>\n",
       "<polygon fill=\"black\" stroke=\"black\" points=\"815.75,-131 825.75,-127.5 815.75,-124 815.75,-131\"/>\n",
       "</g>\n",
       "<!-- 140565596419888 -->\n",
       "<g id=\"node11\" class=\"node\">\n",
       "<title>140565596419888</title>\n",
       "<polygon fill=\"none\" stroke=\"black\" points=\"563,-137.5 563,-173.5 691,-173.5 691,-137.5 563,-137.5\"/>\n",
       "<text text-anchor=\"middle\" x=\"576\" y=\"-151.8\" font-family=\"Times,serif\" font-size=\"14.00\">b</text>\n",
       "<polyline fill=\"none\" stroke=\"black\" points=\"589,-137.5 589,-173.5 \"/>\n",
       "<text text-anchor=\"middle\" x=\"640\" y=\"-151.8\" font-family=\"Times,serif\" font-size=\"14.00\">data 7.0000</text>\n",
       "</g>\n",
       "<!-- 140565596419888&#45;&gt;140565596410144+ -->\n",
       "<g id=\"edge12\" class=\"edge\">\n",
       "<title>140565596419888&#45;&gt;140565596410144+</title>\n",
       "<path fill=\"none\" stroke=\"black\" d=\"M691.08,-142.32C703.42,-139.74 715.95,-137.12 726.96,-134.82\"/>\n",
       "<polygon fill=\"black\" stroke=\"black\" points=\"727.94,-138.19 737.01,-132.72 726.51,-131.34 727.94,-138.19\"/>\n",
       "</g>\n",
       "<!-- 140565596408656 -->\n",
       "<g id=\"node12\" class=\"node\">\n",
       "<title>140565596408656</title>\n",
       "<polygon fill=\"none\" stroke=\"black\" points=\"1097,-136.5 1097,-172.5 1251,-172.5 1251,-136.5 1097,-136.5\"/>\n",
       "<text text-anchor=\"middle\" x=\"1109.5\" y=\"-150.8\" font-family=\"Times,serif\" font-size=\"14.00\">y</text>\n",
       "<polyline fill=\"none\" stroke=\"black\" points=\"1122,-136.5 1122,-172.5 \"/>\n",
       "<text text-anchor=\"middle\" x=\"1186.5\" y=\"-150.8\" font-family=\"Times,serif\" font-size=\"14.00\">data 1454.0000</text>\n",
       "</g>\n",
       "<!-- 140565596408656*&#45;&gt;140565596408656 -->\n",
       "<g id=\"edge5\" class=\"edge\">\n",
       "<title>140565596408656*&#45;&gt;140565596408656</title>\n",
       "<path fill=\"none\" stroke=\"black\" d=\"M1061.28,-154.5C1068.86,-154.5 1077.58,-154.5 1086.72,-154.5\"/>\n",
       "<polygon fill=\"black\" stroke=\"black\" points=\"1086.79,-158 1096.79,-154.5 1086.79,-151 1086.79,-158\"/>\n",
       "</g>\n",
       "<!-- 140566029396352 -->\n",
       "<g id=\"node14\" class=\"node\">\n",
       "<title>140566029396352</title>\n",
       "<polygon fill=\"none\" stroke=\"black\" points=\"2,-165.5 2,-201.5 147,-201.5 147,-165.5 2,-165.5\"/>\n",
       "<text text-anchor=\"middle\" x=\"19\" y=\"-179.8\" font-family=\"Times,serif\" font-size=\"14.00\">x2</text>\n",
       "<polyline fill=\"none\" stroke=\"black\" points=\"36,-165.5 36,-201.5 \"/>\n",
       "<text text-anchor=\"middle\" x=\"91.5\" y=\"-179.8\" font-family=\"Times,serif\" font-size=\"14.00\">data 24.0000</text>\n",
       "</g>\n",
       "<!-- 140566029396352&#45;&gt;140565596414080* -->\n",
       "<g id=\"edge6\" class=\"edge\">\n",
       "<title>140566029396352&#45;&gt;140565596414080*</title>\n",
       "<path fill=\"none\" stroke=\"black\" d=\"M126.29,-165.38C133.94,-162.5 141.7,-159.48 149,-156.5 159.36,-152.27 170.54,-147.33 180.51,-142.79\"/>\n",
       "<polygon fill=\"black\" stroke=\"black\" points=\"182.02,-145.96 189.65,-138.6 179.1,-139.59 182.02,-145.96\"/>\n",
       "</g>\n",
       "<!-- 140566030823344 -->\n",
       "<g id=\"node15\" class=\"node\">\n",
       "<title>140566030823344</title>\n",
       "<polygon fill=\"none\" stroke=\"black\" points=\"4.5,-110.5 4.5,-146.5 144.5,-146.5 144.5,-110.5 4.5,-110.5\"/>\n",
       "<text text-anchor=\"middle\" x=\"23.5\" y=\"-124.8\" font-family=\"Times,serif\" font-size=\"14.00\">w2</text>\n",
       "<polyline fill=\"none\" stroke=\"black\" points=\"42.5,-110.5 42.5,-146.5 \"/>\n",
       "<text text-anchor=\"middle\" x=\"93.5\" y=\"-124.8\" font-family=\"Times,serif\" font-size=\"14.00\">data 5.0000</text>\n",
       "</g>\n",
       "<!-- 140566030823344&#45;&gt;140565596414080* -->\n",
       "<g id=\"edge13\" class=\"edge\">\n",
       "<title>140566030823344&#45;&gt;140565596414080*</title>\n",
       "<path fill=\"none\" stroke=\"black\" d=\"M144.84,-128.5C155.25,-128.5 165.6,-128.5 174.93,-128.5\"/>\n",
       "<polygon fill=\"black\" stroke=\"black\" points=\"174.96,-132 184.96,-128.5 174.96,-125 174.96,-132\"/>\n",
       "</g>\n",
       "<!-- 140566030825456 -->\n",
       "<g id=\"node16\" class=\"node\">\n",
       "<title>140566030825456</title>\n",
       "<polygon fill=\"none\" stroke=\"black\" points=\"0,-0.5 0,-36.5 149,-36.5 149,-0.5 0,-0.5\"/>\n",
       "<text text-anchor=\"middle\" x=\"19\" y=\"-14.8\" font-family=\"Times,serif\" font-size=\"14.00\">w1</text>\n",
       "<polyline fill=\"none\" stroke=\"black\" points=\"38,-0.5 38,-36.5 \"/>\n",
       "<text text-anchor=\"middle\" x=\"93.5\" y=\"-14.8\" font-family=\"Times,serif\" font-size=\"14.00\">data 10.0000</text>\n",
       "</g>\n",
       "<!-- 140566030825456&#45;&gt;140565596407840* -->\n",
       "<g id=\"edge14\" class=\"edge\">\n",
       "<title>140566030825456&#45;&gt;140565596407840*</title>\n",
       "<path fill=\"none\" stroke=\"black\" d=\"M123.86,-36.55C132.27,-39.8 140.91,-43.2 149,-46.5 159.11,-50.62 170.06,-55.32 179.9,-59.62\"/>\n",
       "<polygon fill=\"black\" stroke=\"black\" points=\"178.74,-62.93 189.3,-63.75 181.56,-56.52 178.74,-62.93\"/>\n",
       "</g>\n",
       "</g>\n",
       "</svg>\n"
      ],
      "text/plain": [
       "<graphviz.graphs.Digraph at 0x7fd810396bf0>"
      ]
     },
     "execution_count": 16,
     "metadata": {},
     "output_type": "execute_result"
    }
   ],
   "source": [
    "x1 = Valor(60, rotulo='x1')\n",
    "x2 = Valor(24, rotulo='x2')\n",
    "\n",
    "w1 = Valor(10, rotulo='w1')\n",
    "w2 = Valor(5, rotulo='w2')\n",
    "w3 = Valor(2, rotulo='w3')\n",
    "\n",
    "b = Valor(7, rotulo='b')\n",
    "\n",
    "s1 = x1*w1\n",
    "s1.rotulo = 's1'\n",
    "\n",
    "s2 = x2*w2\n",
    "s2.rotulo = 's2'\n",
    "\n",
    "n = s1+s2\n",
    "n.rotulo = 'n'\n",
    "\n",
    "k = n + b\n",
    "k.rotulo = 'k'\n",
    "\n",
    "y = k*w3\n",
    "y.rotulo = 'y'\n",
    "\n",
    "plota_grafo(y)"
   ]
  },
  {
   "cell_type": "markdown",
   "metadata": {},
   "source": [
    "## Conclusão\n",
    "\n",
    "Neste experimento, estudamos a representação de grafos assim como aqueles vistos na primeira aula de Redes Neurais, representando as operações e o sentido que deve ser seguido. Por meio da utilização de classes, pudemos criar um objeto que contenha as características necessárias, criando inclusive uma relação de parentesco. Isto é, para representar todo o caminho, o código utiliza a ideia de progenitor, que é uma tupla, e o operador mãe, que é uma string.\n",
    "\n",
    "Para realizar operações com os valores definidos nas classes, foi ainda necessário definir as operações internamente por meio dos dunders, métodos delimitados por meio de um duplo sublinhado `__`, como em `__add__`. Nota-se a importância de realizar tal construção já que necessitaremos calcular o backpropagation do código.\n",
    "\n",
    "Utilizamos ainda a função de Andrej Karpathy para plotar o grafo utilizando o módulo de Python Graphviz e representamos o grafo da aula 1 de Redes Neurais, com exceção da representação do gradiente."
   ]
  },
  {
   "cell_type": "markdown",
   "metadata": {},
   "source": [
    "## Playground\n",
    "\n"
   ]
  },
  {
   "cell_type": "code",
   "execution_count": null,
   "metadata": {},
   "outputs": [],
   "source": []
  }
 ],
 "metadata": {
  "kernelspec": {
   "display_name": "zanipy",
   "language": "python",
   "name": "zanipy"
  },
  "language_info": {
   "codemirror_mode": {
    "name": "ipython",
    "version": 3
   },
   "file_extension": ".py",
   "mimetype": "text/x-python",
   "name": "python",
   "nbconvert_exporter": "python",
   "pygments_lexer": "ipython3",
   "version": "3.10.6"
  },
  "org": null
 },
 "nbformat": 4,
 "nbformat_minor": 4
}
