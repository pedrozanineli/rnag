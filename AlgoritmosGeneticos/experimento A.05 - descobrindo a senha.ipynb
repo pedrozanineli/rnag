{
 "cells": [
  {
   "cell_type": "markdown",
   "metadata": {},
   "source": [
    "Descobrindo a senha\n",
    "===================\n",
    "\n"
   ]
  },
  {
   "cell_type": "markdown",
   "metadata": {},
   "source": [
    "## Objetivo\n",
    "\n"
   ]
  },
  {
   "cell_type": "markdown",
   "metadata": {},
   "source": [
    "Usar um algoritmo genético para descobrir uma senha.\n",
    "\n"
   ]
  },
  {
   "cell_type": "markdown",
   "metadata": {},
   "source": [
    "## Descrição do problema\n",
    "\n"
   ]
  },
  {
   "cell_type": "markdown",
   "metadata": {},
   "source": [
    "Neste problema, a função objetivo deve saber a senha correta e quantificar de alguma maneira o quão perto ou longe os palpites estão da solução (veja que isso é algo que não temos no mundo real. Nenhum site irá te dizer se você está acertando ou errando seu palpite). O critério de parada deste problema é quando a senha for descoberta.\n",
    "\n"
   ]
  },
  {
   "cell_type": "markdown",
   "metadata": {},
   "source": [
    "## Importações\n",
    "\n"
   ]
  },
  {
   "cell_type": "code",
   "execution_count": 1,
   "metadata": {},
   "outputs": [],
   "source": [
    "from funcoes import populacao_inicial_senha\n",
    "from funcoes import funcao_objetivo_pop_senha\n",
    "from funcoes import selecao_torneio_min\n",
    "from funcoes import cruzamento_ponto_simples as funcao_cruzamento\n",
    "from funcoes import mutacao_senha\n",
    "import random"
   ]
  },
  {
   "cell_type": "markdown",
   "metadata": {},
   "source": [
    "## Códigos e discussão\n",
    "\n"
   ]
  },
  {
   "cell_type": "markdown",
   "metadata": {},
   "source": [
    "O presente problema, como já descrito, tem como objetivo encontrar a senha que se aproxime o mais próximo possível da senha real.\n",
    "\n",
    "Para tanto, como forma de quantificar a exatidão do indivíduo analisado, faz-se como necessário comparar a senha real e a senha possível, determinando quantos digítos estão corretos e quantos não estão."
   ]
  },
  {
   "cell_type": "code",
   "execution_count": 2,
   "metadata": {},
   "outputs": [],
   "source": [
    "### Constantes\n",
    "\n",
    "# relacionadas à busca\n",
    "TAMANHO_POP = 50\n",
    "#NUM_GERACOES = 2000 # O critério de parada não é mais o número de gerações, mas se a senha encontrada é a mesma da que é buscada\n",
    "CHANCE_CRUZAMENTO = 0.5\n",
    "CHANCE_MUTACAO = 0.05\n",
    "NUM_COMBATENTES_NO_TORNEIO = 3\n",
    "\n",
    "# relacionadas ao problema a ser resulvido\n",
    "SENHA = \"correcthorsebatterystaple\"\n",
    "LETRAS_POSSIVEIS = \"abcdefghijklmnopqrstuvwxyz\"\n",
    "NUM_GENES = len(SENHA)"
   ]
  },
  {
   "cell_type": "code",
   "execution_count": 3,
   "metadata": {},
   "outputs": [],
   "source": [
    "def cria_populacao_inicial(tamanho, tamanho_senha):\n",
    "    return populacao_inicial_senha(tamanho, tamanho_senha, LETRAS_POSSIVEIS)\n",
    "\n",
    "def funcao_objetivo_pop(populacao):\n",
    "    return funcao_objetivo_pop_senha(populacao, SENHA)\n",
    "\n",
    "def funcao_selecao(populacao, fitness):\n",
    "    return selecao_torneio_min(populacao, fitness, NUM_COMBATENTES_NO_TORNEIO)\n",
    "\n",
    "def funcao_mutacao(individuo):\n",
    "    return mutacao_senha(individuo, LETRAS_POSSIVEIS)"
   ]
  },
  {
   "cell_type": "code",
   "execution_count": 4,
   "metadata": {},
   "outputs": [
    {
     "name": "stdout",
     "output_type": "stream",
     "text": [
      "Progresso da melhor senha já vista:\n",
      "plrobtkcwpslvpshipxrgeisf - fitness: 158\n",
      "nqrvpstitxjgddryfraqyllvf - fitness: 137\n",
      "nqrobtkcwpslicshipxrgeisf - fitness: 129\n",
      "nqrvpstitxjgddryipxrgeisf - fitness: 119\n",
      "nqrvpstitxjgddryfpxrgeisf - fitness: 116\n",
      "nqrobttiwpjgddryfpxrgeisf - fitness: 107\n",
      "cqrvpstiwpjgddryipxrgeiof - fitness: 103\n",
      "nqrobttiwpjgddryfpxrpeisf - fitness: 98\n",
      "cqrobttiwpjgddryfpxrpeisf - fitness: 87\n",
      "cqrobttitxvgddryfpxrpeisf - fitness: 82\n",
      "cqrobttitxrgddryfpxrpeisf - fitness: 80\n",
      "cqroettitxrgddryfpxrpeisf - fitness: 77\n",
      "cqroettitxrgddryfpyrpeisf - fitness: 76\n",
      "cqroettitxrgddryfpyrteisf - fitness: 72\n",
      "cqroettitxrgbdryfpyrteisf - fitness: 70\n",
      "coroettitxrgbdryfpyrteisf - fitness: 68\n",
      "coroettitxrgbdryfpyrteimf - fitness: 62\n",
      "coroettitxrgbdryfpyrtermf - fitness: 57\n",
      "coroettitxrfbdryfpyrtermf - fitness: 56\n",
      "coroektitxrfbdryfpyrtermf - fitness: 47\n",
      "coroebtitxrfbdryfpyrtermf - fitness: 40\n",
      "coroebthtxrfbdryfpyrtermf - fitness: 39\n",
      "coroebthtxrfbdtyfpyrtermf - fitness: 37\n",
      "coroebthtqrfbdryfpyrtermf - fitness: 34\n",
      "coroebthtxrfbdtyfpyrtarmf - fitness: 33\n",
      "corqebthtqrfbdryfpyrtermf - fitness: 32\n",
      "coroebthtqrfbdtyfpyrtarmf - fitness: 28\n",
      "corqebthtqrfbdtyfpyrtarmf - fitness: 26\n",
      "corqebthtqrfbdtvfpyrtarmf - fitness: 23\n",
      "corqebthoqrfbdtrfpyrtarmf - fitness: 18\n",
      "corqebthoqrfbctrfpyrtarmf - fitness: 17\n",
      "corqebthorrfbctrfpyrtarmf - fitness: 16\n",
      "corqebthorrfbcttfpyrtarmf - fitness: 14\n",
      "corqebthorsfbctuepyrtarmf - fitness: 13\n",
      "corqebthorsfbcttepyrtarmf - fitness: 12\n",
      "corqebthorsfbcttesyrtarmf - fitness: 11\n",
      "corqebthorsfbcttesyrtaqmf - fitness: 10\n",
      "corqebthorsfbcttesyrtapmf - fitness: 9\n",
      "correbthorsfbbttesyrtaqmd - fitness: 8\n",
      "correbthorsfbbttesyrtaqlf - fitness: 7\n",
      "correbthorsfbbtteryrtaqlf - fitness: 6\n",
      "correbthorsfbattesyrtaqle - fitness: 5\n",
      "correbthorsfbatteryrtaqle - fitness: 4\n",
      "correbthorsebatteryrtaqle - fitness: 3\n",
      "correcthorsebatteryrtaqle - fitness: 2\n",
      "correcthorsebatterystaqle - fitness: 1\n",
      "correcthorsebatterystaple - fitness: 0\n",
      "\n",
      "Após 1112 gerações, a senha encontrada foi:\n",
      "correcthorsebatterystaple\n"
     ]
    }
   ],
   "source": [
    "populacao = cria_populacao_inicial(TAMANHO_POP, NUM_GENES)\n",
    "\n",
    "melhor_fitness_ja_visto = float(\"inf\")  # é assim que escrevemos infinito em python\n",
    "contador_geracoes = 0\n",
    "\n",
    "print(\"Progresso da melhor senha já vista:\")\n",
    "\n",
    "#for n in range(NUM_GERACOES):    \n",
    "while melhor_fitness_ja_visto != 0:\n",
    "    \n",
    "    # Seleção\n",
    "    fitness = funcao_objetivo_pop(populacao)\n",
    "    populacao = funcao_selecao(populacao, fitness)\n",
    "    \n",
    "    # Cruzamento\n",
    "    pais = populacao[0::2]\n",
    "    maes = populacao[1::2]\n",
    "    \n",
    "    contador = 0\n",
    "    \n",
    "    for pai, mae in zip(pais, maes):\n",
    "        if random.random() <= CHANCE_CRUZAMENTO:\n",
    "            filho1, filho2 = funcao_cruzamento(pai, mae)\n",
    "            populacao[contador] = filho1\n",
    "            populacao[contador + 1] = filho2\n",
    "        \n",
    "        contador = contador + 2   \n",
    "        \n",
    "    # Mutação\n",
    "    for n in range(len(populacao)):\n",
    "        if random.random() <= CHANCE_MUTACAO:\n",
    "            individuo = populacao[n]\n",
    "            populacao[n] = funcao_mutacao(individuo)            \n",
    "            \n",
    "    # melhor individuo já visto até agora\n",
    "    fitness = funcao_objetivo_pop(populacao)\n",
    "    menor_fitness = min(fitness)\n",
    "    if menor_fitness < melhor_fitness_ja_visto:        \n",
    "        posicao = fitness.index(menor_fitness)\n",
    "        melhor_individuo_ja_visto = populacao[posicao]\n",
    "        melhor_fitness_ja_visto = menor_fitness\n",
    "        print(\"\".join(melhor_individuo_ja_visto), \"- fitness:\", melhor_fitness_ja_visto)\n",
    "    \n",
    "    contador_geracoes += 1\n",
    "\n",
    "print()\n",
    "print(f\"Após {contador_geracoes} gerações, a senha encontrada foi:\")\n",
    "print(\"\".join(melhor_individuo_ja_visto))"
   ]
  },
  {
   "cell_type": "markdown",
   "metadata": {},
   "source": [
    "## Conclusão\n",
    "\n",
    "Diferentemente dos problemas resolvidos anteriormente que são de maximização, o problema atual configura-se como um problema de minimização, uma vez que o objetivo é diminuir a distância do problema. Neste caso, a distância é dada como a menor quantidade de letras diferentes.\n",
    "\n",
    "É ainda importante notar algumas coisas em relação à função de seleção de torneio:\n",
    "\n",
    "- O método permite fazer com que indivíduos que não tenham um fit tão bom possam seguir através das seguintes gerações;\n",
    "- Existe ainda o risco de selecionar o mesmo indivíduo mais de uma vez, porque a população não deixa de ser a mesma. Entretanto, isso não é algo ruim, uma vez que, se selecionar os melhores indivíduos mais de uma vez, ainda vai acontecer o cruzamento, podendo ocasionar em uma melhoria ainda maior.\n",
    "\n",
    "A execução do código tinha como critério de parada ou a correspondência exata do invidivíduo com a senha buscada ou a execução máxima de gerações. Isso possibilita que a senha correta possa não ser encontrada.\n",
    "\n",
    "O experimento configourou-se por ser bastante didático, mas difícil de comparar com a realidade. Isto é, o programa deve conhecer o indivíduo correto para que seja possível calcular a função objetivo. Mesmo assim, foi uma interessante oportunidade para compreender o funcionamento de um problema de minimização."
   ]
  },
  {
   "cell_type": "markdown",
   "metadata": {},
   "source": [
    "## Playground\n",
    "\n"
   ]
  },
  {
   "cell_type": "code",
   "execution_count": null,
   "metadata": {},
   "outputs": [],
   "source": []
  }
 ],
 "metadata": {
  "kernelspec": {
   "display_name": "zanipy",
   "language": "python",
   "name": "zanipy"
  },
  "language_info": {
   "codemirror_mode": {
    "name": "ipython",
    "version": 3
   },
   "file_extension": ".py",
   "mimetype": "text/x-python",
   "name": "python",
   "nbconvert_exporter": "python",
   "pygments_lexer": "ipython3",
   "version": "3.10.6"
  },
  "org": null
 },
 "nbformat": 4,
 "nbformat_minor": 4
}
