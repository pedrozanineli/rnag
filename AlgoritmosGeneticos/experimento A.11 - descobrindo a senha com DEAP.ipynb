{
 "cells": [
  {
   "cell_type": "markdown",
   "metadata": {},
   "source": [
    "Descobrindo a senha com DEAP\n",
    "============================\n",
    "\n"
   ]
  },
  {
   "cell_type": "markdown",
   "metadata": {},
   "source": [
    "## Importações\n",
    "\n"
   ]
  },
  {
   "cell_type": "code",
   "execution_count": 1,
   "metadata": {},
   "outputs": [],
   "source": [
    "import random\n",
    "import numpy as np\n",
    "\n",
    "from deap import base\n",
    "from deap import creator\n",
    "from deap import tools\n",
    "from deap.algorithms import eaSimple\n",
    "\n",
    "from funcoes import gene_letras"
   ]
  },
  {
   "cell_type": "markdown",
   "metadata": {},
   "source": [
    "## Problema da senha usando `DEAP`\n",
    "\n"
   ]
  },
  {
   "cell_type": "markdown",
   "metadata": {},
   "source": [
    "Primeiro definimos as constantes.\n",
    "\n"
   ]
  },
  {
   "cell_type": "code",
   "execution_count": 2,
   "metadata": {},
   "outputs": [],
   "source": [
    "# relacionadas ao problema a ser resolvido\n",
    "SENHA = \"correcthorsebatterystaple\"\n",
    "LETRAS_POSSIVEIS = \"abcdefghijklmnopqrstuvwxyz\"\n",
    "NUM_GENES = len(SENHA)\n",
    "\n",
    "# relacionadas à busca\n",
    "TAMANHO_POP = 50\n",
    "NUM_GERACOES = 100\n",
    "CHANCE_CRUZAMENTO = 0.5\n",
    "CHANCE_MUTACAO = 0.15\n",
    "NUM_COMBATENTES_NO_TORNEIO = 3\n",
    "TAMANHO_HALL_DA_FAMA = 1"
   ]
  },
  {
   "cell_type": "markdown",
   "metadata": {},
   "source": [
    "Precisamos definir a função objetivo também.\n",
    "\n"
   ]
  },
  {
   "cell_type": "code",
   "execution_count": 3,
   "metadata": {},
   "outputs": [],
   "source": [
    "def funcao_objetivo_senha(individuo, senha_verdadeira):\n",
    "    \"\"\"Computa a funcao objetivo de um individuo no problema da senha\n",
    "\n",
    "    Args:\n",
    "      individiuo: lista contendo as letras da senha\n",
    "      senha_verdadeira: a senha que você está tentando descobrir\n",
    "\n",
    "    Returns:\n",
    "      Uma tupla com a  \"distância\" entre a senha proposta e a senha verdadeira.\n",
    "      Essa distância é medida letra por letra. Quanto mais distante uma letra\n",
    "      for da que deveria ser, maior é essa distância.\n",
    "    \"\"\"\n",
    "    diferenca = 0\n",
    "\n",
    "    for letra_candidato, letra_oficial in zip(individuo, senha_verdadeira):\n",
    "        diferenca = diferenca + abs(ord(letra_candidato) - ord(letra_oficial))\n",
    "\n",
    "    return (diferenca, )"
   ]
  },
  {
   "cell_type": "markdown",
   "metadata": {},
   "source": [
    "O `DEAP` não tem uma função de mutação de letras, precisamos usar a que nós criamos na disciplina. Tem um pequeno porém, o `DEAP` espera que a função de mutação retorne um indivíduo dentro de uma tupla. Não sei dizer o motivo dessa escolha, temos que aceitar e seguir.\n",
    "\n"
   ]
  },
  {
   "cell_type": "code",
   "execution_count": 4,
   "metadata": {},
   "outputs": [],
   "source": [
    "def mutacao_senha(individuo, letras):\n",
    "    \"\"\"Realiza a mutação de um gene no problema da senha.\n",
    "\n",
    "    Args:\n",
    "      individuo: uma lista representado um individuo no problema da senha\n",
    "      letras: letras possíveis de serem sorteadas.\n",
    "\n",
    "    Return:\n",
    "      Uma tupla de um individuo (senha) com um gene mutado.\n",
    "    \"\"\"\n",
    "    gene = random.randint(0, len(individuo) - 1)\n",
    "    individuo[gene] = gene_letras(letras)\n",
    "    return (individuo, )"
   ]
  },
  {
   "cell_type": "markdown",
   "metadata": {},
   "source": [
    "O restante não tem segredo. Único detalhe é que agora o problema é de minimização, então precisamos alterar isso.\n",
    "\n"
   ]
  },
  {
   "cell_type": "code",
   "execution_count": 5,
   "metadata": {
    "tags": []
   },
   "outputs": [
    {
     "name": "stdout",
     "output_type": "stream",
     "text": [
      "gen\tnevals\tavg  \tstd    \tmin\tmax\n",
      "0  \t50    \t221.1\t32.2647\t145\t273\n",
      "1  \t26    \t189.82\t25.1712\t143\t234\n",
      "2  \t36    \t165.74\t18.4757\t121\t211\n",
      "3  \t38    \t150.46\t15.166 \t121\t194\n",
      "4  \t35    \t136.4 \t11.7745\t111\t160\n",
      "5  \t14    \t127.14\t10.0896\t99 \t154\n",
      "6  \t29    \t121.02\t13.1156\t98 \t155\n",
      "7  \t20    \t112.08\t12.2863\t94 \t145\n",
      "8  \t19    \t103.7 \t8.25167\t94 \t131\n",
      "9  \t25    \t98.38 \t5.34374\t91 \t115\n",
      "10 \t23    \t94.68 \t5.55496\t72 \t113\n",
      "11 \t30    \t91.38 \t6.72574\t72 \t111\n",
      "12 \t31    \t87.44 \t8.45733\t71 \t122\n",
      "13 \t30    \t80.68 \t6.61949\t71 \t94 \n",
      "14 \t34    \t77.36 \t6.11804\t68 \t94 \n",
      "15 \t34    \t73.58 \t4.79621\t66 \t87 \n",
      "16 \t32    \t70.74 \t2.90386\t57 \t78 \n",
      "17 \t38    \t71.2  \t6.02329\t57 \t90 \n",
      "18 \t32    \t66.54 \t4.59221\t51 \t71 \n",
      "19 \t38    \t64.24 \t6.62891\t51 \t83 \n",
      "20 \t27    \t58.58 \t5.69593\t51 \t74 \n",
      "21 \t31    \t55.46 \t4.90392\t51 \t69 \n",
      "22 \t30    \t53.88 \t4.99055\t50 \t68 \n",
      "23 \t32    \t52.28 \t4.14266\t50 \t73 \n",
      "24 \t35    \t51.3  \t3.66197\t47 \t72 \n",
      "25 \t31    \t51.32 \t3.80232\t47 \t70 \n",
      "26 \t30    \t49.86 \t3.05948\t43 \t67 \n",
      "27 \t24    \t49.12 \t3.50223\t43 \t64 \n",
      "28 \t24    \t48.64 \t4.97498\t42 \t71 \n",
      "29 \t27    \t46.28 \t3.40611\t42 \t62 \n",
      "30 \t29    \t45.88 \t4.06271\t42 \t59 \n",
      "31 \t32    \t43.96 \t2.898  \t38 \t56 \n",
      "32 \t31    \t43.66 \t3.46762\t40 \t60 \n",
      "33 \t21    \t41.66 \t1.55705\t37 \t45 \n",
      "34 \t23    \t40.54 \t3.15094\t36 \t60 \n",
      "35 \t31    \t40.34 \t4.39823\t36 \t62 \n",
      "36 \t28    \t38.36 \t3.64286\t33 \t60 \n",
      "37 \t29    \t36.4  \t1.35647\t33 \t40 \n",
      "38 \t27    \t36.32 \t2.96944\t33 \t50 \n",
      "39 \t26    \t35.34 \t2.45447\t33 \t48 \n",
      "40 \t32    \t36.08 \t5.53115\t32 \t54 \n",
      "41 \t19    \t33.52 \t2.53172\t32 \t46 \n",
      "42 \t28    \t32.94 \t1.78225\t29 \t38 \n",
      "43 \t40    \t32.9  \t4.26732\t28 \t52 \n",
      "44 \t28    \t32.68 \t4.50972\t29 \t47 \n",
      "45 \t27    \t30.66 \t3.70195\t29 \t48 \n",
      "46 \t28    \t30.42 \t3.40641\t29 \t41 \n",
      "47 \t26    \t30.18 \t3.85585\t29 \t48 \n",
      "48 \t30    \t29.92 \t2.84844\t29 \t44 \n",
      "49 \t24    \t29.4  \t1.61245\t29 \t39 \n",
      "50 \t23    \t30.22 \t4.16793\t29 \t51 \n",
      "51 \t37    \t31.06 \t4.74725\t27 \t49 \n",
      "52 \t25    \t30.38 \t3.98442\t27 \t46 \n",
      "53 \t31    \t29.56 \t2.22854\t27 \t41 \n",
      "54 \t30    \t30.32 \t4.23528\t27 \t50 \n",
      "55 \t24    \t29.78 \t3.71101\t27 \t45 \n",
      "56 \t28    \t29.78 \t4.27219\t27 \t51 \n",
      "57 \t27    \t28.42 \t2.7136 \t27 \t43 \n",
      "58 \t23    \t28.62 \t4.18038\t27 \t45 \n",
      "59 \t31    \t28.56 \t4.04554\t27 \t44 \n",
      "60 \t24    \t28.42 \t4.5786 \t24 \t47 \n",
      "61 \t37    \t28.18 \t4.0777 \t24 \t48 \n",
      "62 \t20    \t26.8  \t2.4    \t23 \t40 \n",
      "63 \t27    \t26.46 \t3.74278\t22 \t40 \n",
      "64 \t24    \t25.58 \t4.50373\t21 \t43 \n",
      "65 \t26    \t23.46 \t2.64734\t21 \t33 \n",
      "66 \t27    \t22.62 \t2.72683\t21 \t39 \n",
      "67 \t33    \t22.62 \t2.68246\t21 \t35 \n",
      "68 \t31    \t21.92 \t1.42604\t21 \t28 \n",
      "69 \t32    \t22.48 \t4.22014\t21 \t42 \n",
      "70 \t30    \t24.64 \t6.7313 \t21 \t46 \n",
      "71 \t21    \t22.56 \t3.3476 \t21 \t34 \n",
      "72 \t30    \t22.2  \t3.74166\t19 \t42 \n",
      "73 \t25    \t22.14 \t4.81668\t19 \t46 \n",
      "74 \t35    \t22.16 \t3.5404 \t19 \t35 \n",
      "75 \t24    \t21.48 \t3.13203\t19 \t37 \n",
      "76 \t28    \t20.94 \t3.12032\t19 \t35 \n",
      "77 \t24    \t20.44 \t3.83228\t19 \t40 \n",
      "78 \t24    \t20.1  \t3.45398\t19 \t37 \n",
      "79 \t34    \t20.26 \t3.77788\t19 \t37 \n",
      "80 \t26    \t20.36 \t3.79347\t19 \t36 \n",
      "81 \t23    \t20.7  \t4.1    \t19 \t37 \n",
      "82 \t23    \t20.2  \t3.42929\t19 \t34 \n",
      "83 \t31    \t20.26 \t3.45722\t19 \t32 \n",
      "84 \t37    \t19.78 \t2.50032\t19 \t33 \n",
      "85 \t30    \t19.98 \t3.83401\t19 \t42 \n",
      "86 \t30    \t21.12 \t5.06612\t19 \t42 \n",
      "87 \t24    \t20.52 \t4.13879\t19 \t37 \n",
      "88 \t29    \t19.18 \t0.993781\t19 \t26 \n",
      "89 \t30    \t20.36 \t4.21787 \t19 \t38 \n",
      "90 \t30    \t19.92 \t3.07142 \t18 \t33 \n",
      "91 \t25    \t19.62 \t2.675   \t18 \t34 \n",
      "92 \t23    \t19.44 \t2.57806 \t18 \t33 \n",
      "93 \t29    \t19.98 \t4.45192 \t18 \t42 \n",
      "94 \t24    \t19.68 \t4.31017 \t17 \t36 \n",
      "95 \t31    \t19.48 \t4.16769 \t17 \t37 \n",
      "96 \t36    \t18.92 \t3.09735 \t17 \t34 \n",
      "97 \t33    \t18.94 \t2.94897 \t17 \t31 \n",
      "98 \t33    \t18.5  \t2.93428 \t17 \t33 \n",
      "99 \t35    \t18.84 \t4.89228 \t16 \t38 \n",
      "100\t31    \t18.32 \t3.76532 \t16 \t33 \n",
      "\n",
      "Hall da fama:\n",
      "dossddsiossfcctteryssanlf\n"
     ]
    }
   ],
   "source": [
    "# Devemos alterar aqui por ser um problema de minimização\n",
    "creator.create(\"Fitness_min\", base.Fitness, weights=(-1.0,))\n",
    "creator.create(\"Individual\", list, fitness=creator.Fitness_min)\n",
    "\n",
    "toolbox = base.Toolbox()\n",
    "\n",
    "toolbox.register(\"cria_gene\", gene_letras, LETRAS_POSSIVEIS)\n",
    "toolbox.register(\n",
    "    \"individual\",\n",
    "    tools.initRepeat,\n",
    "    creator.Individual,\n",
    "    toolbox.cria_gene,\n",
    "    NUM_GENES,\n",
    ")\n",
    "toolbox.register(\n",
    "    \"population\", tools.initRepeat, list, toolbox.individual, TAMANHO_POP\n",
    ")\n",
    "toolbox.register(\"evaluate\", funcao_objetivo_senha, SENHA)\n",
    "toolbox.register(\n",
    "    \"select\", tools.selTournament, tournsize=NUM_COMBATENTES_NO_TORNEIO\n",
    ")\n",
    "toolbox.register(\"mate\", tools.cxOnePoint)\n",
    "toolbox.register(\n",
    "    \"mutate\",\n",
    "    mutacao_senha,\n",
    "    letras=LETRAS_POSSIVEIS\n",
    ")\n",
    "\n",
    "hall_da_fama = tools.HallOfFame(TAMANHO_HALL_DA_FAMA)\n",
    "\n",
    "estatisticas = tools.Statistics(lambda ind: ind.fitness.values)\n",
    "estatisticas.register(\"avg\", np.mean)\n",
    "estatisticas.register(\"std\", np.std)\n",
    "estatisticas.register(\"min\", np.min)\n",
    "estatisticas.register(\"max\", np.max)\n",
    "\n",
    "populacao_inicial = toolbox.population()\n",
    "\n",
    "populacao_final, log = eaSimple(\n",
    "    populacao_inicial,\n",
    "    toolbox,\n",
    "    cxpb=CHANCE_CRUZAMENTO,\n",
    "    mutpb=CHANCE_MUTACAO,\n",
    "    ngen=NUM_GERACOES,\n",
    "    stats=estatisticas,\n",
    "    halloffame=hall_da_fama,\n",
    "    verbose=True,\n",
    ")\n",
    "\n",
    "print()\n",
    "print(\"Hall da fama:\")\n",
    "print(\"\".join(hall_da_fama.items[0]))"
   ]
  }
 ],
 "metadata": {
  "kernelspec": {
   "display_name": "zanipy",
   "language": "python",
   "name": "zanipy"
  },
  "language_info": {
   "codemirror_mode": {
    "name": "ipython",
    "version": 3
   },
   "file_extension": ".py",
   "mimetype": "text/x-python",
   "name": "python",
   "nbconvert_exporter": "python",
   "pygments_lexer": "ipython3",
   "version": "3.10.6"
  },
  "org": null
 },
 "nbformat": 4,
 "nbformat_minor": 4
}
