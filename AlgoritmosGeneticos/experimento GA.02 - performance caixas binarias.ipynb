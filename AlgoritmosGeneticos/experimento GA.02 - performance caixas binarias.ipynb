{
 "cells": [
  {
   "cell_type": "markdown",
   "metadata": {},
   "source": [
    "Comparando as performances\n",
    "========================================\n",
    "\n"
   ]
  },
  {
   "cell_type": "markdown",
   "metadata": {},
   "source": [
    "## Introdução\n",
    "\n"
   ]
  },
  {
   "cell_type": "markdown",
   "metadata": {},
   "source": [
    "Durante o primeiro mês do curso de Redes Neurais e Algoritmos Genéticos, fomos apresentados a diferentes algoritmos, como é o caso do algoritmo de busca aleatória, busca em grade e algoritmos genéticos. Dentre tais opções, torna-se interessante saber em que situações usar cada um dos algoritmos."
   ]
  },
  {
   "cell_type": "markdown",
   "metadata": {},
   "source": [
    "## Objetivo\n",
    "\n"
   ]
  },
  {
   "cell_type": "markdown",
   "metadata": {},
   "source": [
    "O objetivo do presente experimento é de avaliar cada um dos algoritmos em função dos valores de fitness retornados e de tempo para a execução de código."
   ]
  },
  {
   "cell_type": "markdown",
   "metadata": {},
   "source": [
    "## Importações\n",
    "\n"
   ]
  },
  {
   "cell_type": "code",
   "execution_count": 1,
   "metadata": {},
   "outputs": [],
   "source": [
    "import time\n",
    "import random\n",
    "import itertools\n",
    "import pandas as pd\n",
    "from funcoes import funcao_objetivo_cb, individuo_cb\n",
    "from funcoes import populacao_cb as cria_populacao_inicial\n",
    "from funcoes import funcao_objetivo_pop_cb as funcao_objetivo_pop\n",
    "from funcoes import selecao_roleta_max as funcao_selecao\n",
    "from funcoes import cruzamento_ponto_simples as funcao_cruzamento\n",
    "from funcoes import mutacao_cb as funcao_mutacao"
   ]
  },
  {
   "cell_type": "markdown",
   "metadata": {},
   "source": [
    "## Códigos e discussão\n",
    "\n"
   ]
  },
  {
   "cell_type": "markdown",
   "metadata": {},
   "source": [
    "Como forma de testar, o método proposto foi:\n",
    "\n",
    "- Definir funções com os métodos;\n",
    "- Variar as constantes de gene e do tamanho da população, no caso de algoritmos genéticos;\n",
    "- Armazenar em um dataframe para poder analisar."
   ]
  },
  {
   "cell_type": "code",
   "execution_count": 2,
   "metadata": {},
   "outputs": [],
   "source": [
    "#Constantes\n",
    "\n",
    "NUM_GERACOES = 5\n",
    "CHANCE_CRUZAMENTO = 0.5\n",
    "CHANCE_MUTACAO = 0.05"
   ]
  },
  {
   "cell_type": "code",
   "execution_count": 3,
   "metadata": {},
   "outputs": [],
   "source": [
    "def busca_aleatoria():\n",
    "    inicio = time.time()\n",
    "    candidatos = {}\n",
    "    resultado_value = float('-inf')\n",
    "\n",
    "    for n in range(TAMANHO_POP):\n",
    "        candidato = individuo_cb(N_GENES)\n",
    "        fobj = funcao_objetivo_cb(candidato)\n",
    "        candidatos.update({str(candidato):fobj})\n",
    "\n",
    "        if fobj > resultado_value:\n",
    "            resultado_value = fobj\n",
    "            resultado_key = candidato\n",
    "    \n",
    "    fim = time.time()\n",
    "    #print(f'Após {round(fim-inicio,5)} segundos, score de {resultado_value}')\n",
    "    return round(fim-inicio,5), resultado_value    "
   ]
  },
  {
   "cell_type": "code",
   "execution_count": 4,
   "metadata": {},
   "outputs": [],
   "source": [
    "def busca_em_grade():\n",
    "    inicio = time.time()\n",
    "    candidatos = {}\n",
    "    resultado_value = float('-inf')\n",
    "    \n",
    "    for individuo in itertools.product([0,1], repeat=N_GENES):\n",
    "        fobj = funcao_objetivo_cb(individuo)\n",
    "        candidatos.update({str(individuo):fobj})\n",
    "        \n",
    "        if fobj > resultado_value:\n",
    "            resultado_value = fobj\n",
    "\n",
    "    fim = time.time()\n",
    "    #print(f'Após {round(fim-inicio,5)} segundos, score de {resultado_value}')\n",
    "    return round(fim-inicio,5), resultado_value"
   ]
  },
  {
   "cell_type": "code",
   "execution_count": 5,
   "metadata": {},
   "outputs": [],
   "source": [
    "def algoritmo_genetico():\n",
    "    inicio = time.time()\n",
    "    \n",
    "    populacao = cria_populacao_inicial(TAMANHO_POP, N_GENES)\n",
    "\n",
    "    #print(f'População inicial de pontuação igual a {sum(funcao_objetivo_pop(populacao))}: \\n{populacao}\\n')\n",
    "\n",
    "    for _ in range(NUM_GERACOES):\n",
    "        fitness = funcao_objetivo_pop(populacao)\n",
    "        populacao = funcao_selecao(populacao,fitness)\n",
    "\n",
    "        # Pais são pares, mães são ímpares\n",
    "        pais = populacao[0::2]\n",
    "        maes = populacao[1::2]\n",
    "\n",
    "        contador = 0\n",
    "\n",
    "        for pai, mae in zip(pais,maes):\n",
    "            if random.random() < CHANCE_CRUZAMENTO:\n",
    "                # Vai acontecer cruzamento\n",
    "                filho1, filho2 = funcao_cruzamento(pai,mae)\n",
    "                populacao[contador] = filho1\n",
    "                populacao[contador+1] = filho2\n",
    "            contador += 2\n",
    "\n",
    "        for n in range(len(populacao)):\n",
    "            if random.random() <= CHANCE_MUTACAO:\n",
    "                #print(f'Indivíduo mutado: {populacao[n]}',end=' ')\n",
    "                populacao[n] = funcao_mutacao(populacao[n])\n",
    "                #print(populacao[n])\n",
    "    \n",
    "    fim = time.time()\n",
    "    \n",
    "    #print(f'Após {round(fim-inicio,5)} segundos, score de {max(fitness)}')\n",
    "    return round(fim-inicio,5), max(fitness)"
   ]
  },
  {
   "cell_type": "code",
   "execution_count": 6,
   "metadata": {},
   "outputs": [
    {
     "ename": "MemoryError",
     "evalue": "",
     "output_type": "error",
     "traceback": [
      "\u001b[1;31m---------------------------------------------------------------------------\u001b[0m",
      "\u001b[1;31mMemoryError\u001b[0m                               Traceback (most recent call last)",
      "\u001b[1;32mC:\\Users\\PEDRO2~1\\AppData\\Local\\Temp/ipykernel_25300/2816113985.py\u001b[0m in \u001b[0;36m<module>\u001b[1;34m\u001b[0m\n\u001b[0;32m      9\u001b[0m     \u001b[0mdados\u001b[0m\u001b[1;33m.\u001b[0m\u001b[0mappend\u001b[0m\u001b[1;33m(\u001b[0m\u001b[1;33m[\u001b[0m\u001b[0mTAMANHO_POP\u001b[0m\u001b[1;33m,\u001b[0m\u001b[0mN_GENES\u001b[0m\u001b[1;33m,\u001b[0m\u001b[0mtempo\u001b[0m\u001b[1;33m,\u001b[0m\u001b[0mscore\u001b[0m\u001b[1;33m]\u001b[0m\u001b[1;33m)\u001b[0m\u001b[1;33m\u001b[0m\u001b[1;33m\u001b[0m\u001b[0m\n\u001b[0;32m     10\u001b[0m \u001b[1;33m\u001b[0m\u001b[0m\n\u001b[1;32m---> 11\u001b[1;33m     \u001b[0mtempo\u001b[0m\u001b[1;33m,\u001b[0m \u001b[0mscore\u001b[0m \u001b[1;33m=\u001b[0m \u001b[0mbusca_em_grade\u001b[0m\u001b[1;33m(\u001b[0m\u001b[1;33m)\u001b[0m\u001b[1;33m\u001b[0m\u001b[1;33m\u001b[0m\u001b[0m\n\u001b[0m\u001b[0;32m     12\u001b[0m     \u001b[0mdados\u001b[0m\u001b[1;33m.\u001b[0m\u001b[0mappend\u001b[0m\u001b[1;33m(\u001b[0m\u001b[1;33m[\u001b[0m\u001b[0mTAMANHO_POP\u001b[0m\u001b[1;33m,\u001b[0m\u001b[0mN_GENES\u001b[0m\u001b[1;33m,\u001b[0m\u001b[0mtempo\u001b[0m\u001b[1;33m,\u001b[0m\u001b[0mscore\u001b[0m\u001b[1;33m]\u001b[0m\u001b[1;33m)\u001b[0m\u001b[1;33m\u001b[0m\u001b[1;33m\u001b[0m\u001b[0m\n\u001b[0;32m     13\u001b[0m \u001b[1;33m\u001b[0m\u001b[0m\n",
      "\u001b[1;32mC:\\Users\\PEDRO2~1\\AppData\\Local\\Temp/ipykernel_25300/123826401.py\u001b[0m in \u001b[0;36mbusca_em_grade\u001b[1;34m()\u001b[0m\n\u001b[0;32m      6\u001b[0m     \u001b[1;32mfor\u001b[0m \u001b[0mindividuo\u001b[0m \u001b[1;32min\u001b[0m \u001b[0mitertools\u001b[0m\u001b[1;33m.\u001b[0m\u001b[0mproduct\u001b[0m\u001b[1;33m(\u001b[0m\u001b[1;33m[\u001b[0m\u001b[1;36m0\u001b[0m\u001b[1;33m,\u001b[0m\u001b[1;36m1\u001b[0m\u001b[1;33m]\u001b[0m\u001b[1;33m,\u001b[0m \u001b[0mrepeat\u001b[0m\u001b[1;33m=\u001b[0m\u001b[0mN_GENES\u001b[0m\u001b[1;33m)\u001b[0m\u001b[1;33m:\u001b[0m\u001b[1;33m\u001b[0m\u001b[1;33m\u001b[0m\u001b[0m\n\u001b[0;32m      7\u001b[0m         \u001b[0mfobj\u001b[0m \u001b[1;33m=\u001b[0m \u001b[0mfuncao_objetivo_cb\u001b[0m\u001b[1;33m(\u001b[0m\u001b[0mindividuo\u001b[0m\u001b[1;33m)\u001b[0m\u001b[1;33m\u001b[0m\u001b[1;33m\u001b[0m\u001b[0m\n\u001b[1;32m----> 8\u001b[1;33m         \u001b[0mcandidatos\u001b[0m\u001b[1;33m.\u001b[0m\u001b[0mupdate\u001b[0m\u001b[1;33m(\u001b[0m\u001b[1;33m{\u001b[0m\u001b[0mstr\u001b[0m\u001b[1;33m(\u001b[0m\u001b[0mindividuo\u001b[0m\u001b[1;33m)\u001b[0m\u001b[1;33m:\u001b[0m\u001b[0mfobj\u001b[0m\u001b[1;33m}\u001b[0m\u001b[1;33m)\u001b[0m\u001b[1;33m\u001b[0m\u001b[1;33m\u001b[0m\u001b[0m\n\u001b[0m\u001b[0;32m      9\u001b[0m \u001b[1;33m\u001b[0m\u001b[0m\n\u001b[0;32m     10\u001b[0m         \u001b[1;32mif\u001b[0m \u001b[0mfobj\u001b[0m \u001b[1;33m>\u001b[0m \u001b[0mresultado_value\u001b[0m\u001b[1;33m:\u001b[0m\u001b[1;33m\u001b[0m\u001b[1;33m\u001b[0m\u001b[0m\n",
      "\u001b[1;31mMemoryError\u001b[0m: "
     ]
    }
   ],
   "source": [
    "dados = []\n",
    "\n",
    "lista_tamanhos = [10]\n",
    "lista_ngenes = [10,20,30]\n",
    "\n",
    "#for TAMANHO_POP, N_GENES in itertools.product(range(10,20,5),range(10,20,5)):\n",
    "for TAMANHO_POP, N_GENES in itertools.product(lista_tamanhos,lista_ngenes):\n",
    "    tempo, score = busca_aleatoria()\n",
    "    dados.append([TAMANHO_POP,N_GENES,tempo,score])\n",
    "    \n",
    "    tempo, score = busca_em_grade()\n",
    "    dados.append([TAMANHO_POP,N_GENES,tempo,score])\n",
    "    \n",
    "    tempo, score = algoritmo_genetico()\n",
    "    dados.append([TAMANHO_POP,N_GENES,tempo,score])\n",
    "    \n",
    "df = pd.DataFrame(dados, index=['Busca Aleatória', 'Busca em Grade', 'Algoritmo Genético'])\n",
    "df.columns = ['Tamanho Pop','N Genes','Tempo','Score']"
   ]
  },
  {
   "cell_type": "code",
   "execution_count": null,
   "metadata": {},
   "outputs": [],
   "source": [
    "df.head()"
   ]
  },
  {
   "cell_type": "markdown",
   "metadata": {},
   "source": [
    "## Conclusão\n",
    "\n"
   ]
  },
  {
   "cell_type": "markdown",
   "metadata": {},
   "source": [
    "Delete este texto e escreva sua conclusão.\n",
    "\n"
   ]
  },
  {
   "cell_type": "markdown",
   "metadata": {},
   "source": [
    "## Referências consultadas\n",
    "\n"
   ]
  },
  {
   "cell_type": "markdown",
   "metadata": {},
   "source": [
    "1.  Delete este texto e inclua suas referências ordenadas numericamente. Se for referenciar no notebook, use o número entre colchetes (exemplo: para citar essa referência aqui escreva &ldquo;[1]&rdquo; sem as áspas).\n",
    "\n",
    "2.  Cada item deve ser numerado. Siga o padrão apresentado.\n",
    "\n",
    "3.  Caso não tenha nenhuma referência consultada, delete esta seção e o texto contido nela!\n",
    "\n"
   ]
  },
  {
   "cell_type": "markdown",
   "metadata": {},
   "source": [
    "## Playground\n",
    "\n"
   ]
  },
  {
   "cell_type": "markdown",
   "metadata": {},
   "source": [
    "Todo código de teste que não faz parte do seu experimento deve vir aqui. Este código não será considerado na avaliação.\n",
    "\n"
   ]
  },
  {
   "cell_type": "code",
   "execution_count": null,
   "metadata": {},
   "outputs": [],
   "source": []
  }
 ],
 "metadata": {
  "kernelspec": {
   "display_name": "ilumpy",
   "language": "python",
   "name": "ilumpy"
  },
  "language_info": {
   "codemirror_mode": {
    "name": "ipython",
    "version": 3
   },
   "file_extension": ".py",
   "mimetype": "text/x-python",
   "name": "python",
   "nbconvert_exporter": "python",
   "pygments_lexer": "ipython3",
   "version": "3.9.7"
  },
  "org": null
 },
 "nbformat": 4,
 "nbformat_minor": 4
}
