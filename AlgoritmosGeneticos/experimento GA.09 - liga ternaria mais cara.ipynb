{
 "cells": [
  {
   "cell_type": "markdown",
   "metadata": {},
   "source": [
    "Liga ternária mais cara\n",
    "========================================\n",
    "\n"
   ]
  },
  {
   "cell_type": "markdown",
   "metadata": {},
   "source": [
    "## Introdução\n",
    "\n"
   ]
  },
  {
   "cell_type": "markdown",
   "metadata": {},
   "source": [
    "**Importante** as funções utilizadas no presente experimento estão elencadas no final do arquivo de funções.\n",
    "\n",
    "Quando trabalhamos com ciências de materiais, é uma tarefa importante encontrar novas possibilidades e composições. Assim, a partir do cálculo de propriedades, é possível prever combinações que satisfaçam um determinado objetivo. Nesse caso, podemos pensar na liga ternária mais cara possível, podendo servir como exemplo do que não fazer ao desenvolver uma liga ternária..."
   ]
  },
  {
   "cell_type": "markdown",
   "metadata": {},
   "source": [
    "## Objetivo\n",
    "\n"
   ]
  },
  {
   "cell_type": "markdown",
   "metadata": {},
   "source": [
    "No experimento, busca-se encontrar a liga ternária mais cara possível de acordo com a relação dos elementos e seus respectivos valores de dólar por kilograma disponíveis por meio da utilização de algoritmos genéticos, apoiando-se nos conceitos de gene, indivíduo, população, mutação, seleção e cruzamento."
   ]
  },
  {
   "cell_type": "markdown",
   "metadata": {},
   "source": [
    "## Importações\n",
    "\n"
   ]
  },
  {
   "cell_type": "markdown",
   "metadata": {},
   "source": [
    "Todos os comandos de `import` devem estar dentro desta seção.\n",
    "\n"
   ]
  },
  {
   "cell_type": "code",
   "execution_count": 1,
   "metadata": {
    "tags": []
   },
   "outputs": [],
   "source": [
    "import random\n",
    "\n",
    "from funcoes import cruzamento_ordenado\n",
    "\n",
    "from funcoes import individuo_lt\n",
    "from funcoes import mutacao_de_troca\n",
    "from funcoes import populacao_inicial_lt\n",
    "from funcoes import funcao_objetivo_pop_lt\n",
    "from funcoes import selecao_roleta_max\n",
    "from funcoes import cruzamento_lt"
   ]
  },
  {
   "cell_type": "markdown",
   "metadata": {},
   "source": [
    "## Códigos e discussão\n",
    "\n"
   ]
  },
  {
   "cell_type": "code",
   "execution_count": 2,
   "metadata": {
    "tags": []
   },
   "outputs": [],
   "source": [
    "# preço em dólares por kilograma\n",
    "preco = {\n",
    "    \"H\": 1.39,\n",
    "    \"He\": 24,\n",
    "    \"Li\": 85.6,\n",
    "    \"Be\": 857,\n",
    "    \"B\": 3.68,\n",
    "    \"C\": 0.122,\n",
    "    \"N\": 0.14,\n",
    "    \"O\": 0.154,\n",
    "    \"F\": 2.16,\n",
    "    \"Ne\": 240,\n",
    "    \"Na\": 3.43,\n",
    "    \"Mg\": 2.32,\n",
    "    \"Al\": 1.79,\n",
    "    \"Si\": 1.7,\n",
    "    \"P\": 2.69,\n",
    "    \"S\": 0.0926,\n",
    "    \"Cl\": 0.082,\n",
    "    \"Ar\": 0.931,\n",
    "    \"K\": 13.6,\n",
    "    \"Ca\": 2.35,\n",
    "    \"Sc\": 3460,\n",
    "    \"Ti\": 11.7,\n",
    "    \"V\": 385,\n",
    "    \"Cr\": 9.4,\n",
    "    \"Mn\": 1.82,\n",
    "    \"Fe\": 0.424,\n",
    "    \"Co\": 32.8,\n",
    "    \"Ni\": 13.9,\n",
    "    \"Cu\": 6,\n",
    "    \"Zn\": 2.55,\n",
    "    \"Ga\": 148,\n",
    "    \"Ge\": 1010,\n",
    "    \"As\": 1.31,\n",
    "    \"Se\": 21.4,\n",
    "    \"Br\": 4.39,\n",
    "    \"Kr\": 290,\n",
    "    \"Rb\": 15500,\n",
    "    \"Sr\": 6.68,\n",
    "    \"Y\": 31,\n",
    "    \"Nb\": 85.6,\n",
    "    \"Mo\": 40.1,\n",
    "    \"Tc\": 100000,\n",
    "    \"Ru\": 10600,\n",
    "    \"Rh\": 147000,\n",
    "    \"Pd\": 49500,\n",
    "    \"Ag\": 521,\n",
    "    \"Cd\": 2.73,\n",
    "    \"In\": 167,\n",
    "    \"Sn\": 18.7,\n",
    "    \"Sb\": 5.79,\n",
    "    \"Te\": 63.5,\n",
    "    \"I\": 35,\n",
    "    \"Xe\": 1800,\n",
    "    \"Cs\": 61800,\n",
    "    \"Ba\": 0.275,\n",
    "    \"La\": 4.92,\n",
    "    \"Ce\": 4.71,\n",
    "    \"Pr\": 103,\n",
    "    \"Nd\": 57.5,\n",
    "    \"Pm\": 460000,\n",
    "    \"Sm\": 13.9,\n",
    "    \"Eu\": 31.4,\n",
    "    \"Gd\": 28.6,\n",
    "    \"Tb\": 658,\n",
    "    \"Dy\": 307,\n",
    "    \"Ho\": 57.1,\n",
    "    \"Er\": 26.4,\n",
    "    \"Tm\": 3000,\n",
    "    \"Yb\": 17.1,\n",
    "    \"Lu\": 643,\n",
    "    \"Hf\": 900,\n",
    "    \"Ta\": 312,\n",
    "    \"W\": 35.3,\n",
    "    \"Re\": 4150,\n",
    "    \"Os\": 12000,\n",
    "    \"Ir\": 56200,\n",
    "    \"Pt\": 27800,\n",
    "    \"Hg\": 30.2,\n",
    "    \"Tl\": 4200,\n",
    "    \"Pb\": 2,\n",
    "    \"Bi\": 6.36,\n",
    "    \"Po\": 49200000000000,\n",
    "    \"Ac\": 29000000000000,\n",
    "    \"Th\": 287,\n",
    "    \"Pa\": 280000,\n",
    "    \"U\": 101,\n",
    "    \"Np\": 660000,\n",
    "    \"Pu\": 6490000,\n",
    "    \"Am\": 750000,\n",
    "    \"Cm\": 160000000000,\n",
    "    \"Bk\": 185000000000,\n",
    "    \"Cf\": 185000000000,\n",
    "}"
   ]
  },
  {
   "cell_type": "code",
   "execution_count": 3,
   "metadata": {
    "tags": []
   },
   "outputs": [],
   "source": [
    "def cria_populacao_inicial(n_genes, tamanho, preco):\n",
    "    return populacao_inicial_lt(n_genes, tamanho, preco)\n",
    "\n",
    "def funcao_mutacao(individuo):\n",
    "    return mutacao_de_troca(individuo)\n",
    "\n",
    "def funcao_objetivo_pop(populacao, preco):\n",
    "    return funcao_objetivo_pop_lt(populacao, preco)\n",
    "\n",
    "def funcao_selecao(populacao,fitness):\n",
    "    return selecao_roleta_max(populacao,fitness)"
   ]
  },
  {
   "cell_type": "code",
   "execution_count": 4,
   "metadata": {
    "tags": []
   },
   "outputs": [],
   "source": [
    "# Constantes\n",
    "\n",
    "N_GENES = 3 # Já que é de liga ternária\n",
    "TAMANHO_POP = 20\n",
    "NUM_GERACOES = 50\n",
    "CHANCE_CRUZAMENTO = 0.3\n",
    "CHANCE_MUTACAO = 0.05"
   ]
  },
  {
   "cell_type": "code",
   "execution_count": 8,
   "metadata": {
    "tags": []
   },
   "outputs": [
    {
     "name": "stdout",
     "output_type": "stream",
     "text": [
      "A liga escolhida com um preço de 4373.06 trilhões de dólares, detém as seguintes características:\n",
      "\n",
      "- Pd: 5.97 gramas\n",
      "- Os: 5.15 gramas\n",
      "- Po: 88.88 gramas\n",
      "100.0\n"
     ]
    }
   ],
   "source": [
    "populacao = cria_populacao_inicial(N_GENES, TAMANHO_POP, preco)\n",
    "\n",
    "for _ in range(NUM_GERACOES):\n",
    "    fitness = funcao_objetivo_pop(populacao, preco)    \n",
    "    populacao = funcao_selecao(populacao,fitness)    \n",
    "    \n",
    "    pais = populacao[0::2]\n",
    "    maes = populacao[1::2]\n",
    "    \n",
    "    contador = 0\n",
    "    \n",
    "    for pai, mae in zip(pais,maes):\n",
    "        if random.random() < CHANCE_CRUZAMENTO:\n",
    "            filho1, filho2 = cruzamento_lt(pai,mae,preco,N_GENES)\n",
    "            populacao[contador] = filho1\n",
    "            populacao[contador+1] = filho2\n",
    "        contador += 2\n",
    "    \n",
    "    \n",
    "    for n in range(len(populacao)):\n",
    "        if random.random() <= CHANCE_MUTACAO:\n",
    "            populacao[n] = funcao_mutacao(populacao[n])\n",
    "\n",
    "print(f'A liga escolhida com um preço de {round(max(fitness)/1e9,2)} trilhões de dólares, detém as seguintes características:\\n')\n",
    "\n",
    "s = 0\n",
    "\n",
    "liga_escolhida = populacao[fitness.index(max(fitness))]\n",
    "for elemento, quantidade in zip(list(preco.keys()),liga_escolhida):\n",
    "    if quantidade != 0:\n",
    "        s += quantidade\n",
    "        print(f'- {elemento}: {round(quantidade,2)} gramas')\n",
    "\n",
    "print(s)"
   ]
  },
  {
   "cell_type": "markdown",
   "metadata": {},
   "source": [
    "## Conclusão\n",
    "\n"
   ]
  },
  {
   "cell_type": "markdown",
   "metadata": {},
   "source": [
    "Utilizando uma seleção de roleta máxima, cruzamento de ponto simples e mutação de troca, foi possível desenvolver o problema da liga ternária mais cara possível. Ao analisarmos a relação de compostos e preços disponíveis, tornou-se evidente que a liga mais cara possível seria aquela com a maior quantidade em massa do elemento mais caro - neste caso, 90 gramas -, e o restante sendo dividido de maneira semelhante para os segundo e terceiro elemento mais caro.\n",
    "\n",
    "Isso inclusive foi possível de perceber em algumas execuções do código. Para uma quantidade muito grande de populações, os resultados encontrados não eram tão bons quanto os gerados com poucas gerações, podendo ser entendida como uma característica do problema e de sua resolução. Além disso, na célula anterior, é perceptível o cenário de maior quantidade de um elemento caro e de uma divisão igual para dois outros elementos de preço elevado.\n",
    "\n",
    "Após a resolução do problema, é interessante perceber que essa é uma boa estratégia importante para encontrar possíveis candidatos, mas que deve ser analisada com cautela. Por exemplo, uma liga de polônio, como a que foi encontrada, pode não ser algo factível, já que relatos encontrados em uma busca de ligas de polônio datam da década de 40 [1], com poucas referências sobre o assunto na literatura. "
   ]
  },
  {
   "cell_type": "markdown",
   "metadata": {},
   "source": [
    "## Referências consultadas\n",
    "\n"
   ]
  },
  {
   "cell_type": "markdown",
   "metadata": {},
   "source": [
    "1. Evans, Robley D.. (1939). Polonium Alloy for Spark Plug Electrodes. Journal of Applied Physics, 11(561). https://doi.org/10.1063/1.1712832."
   ]
  }
 ],
 "metadata": {
  "kernelspec": {
   "display_name": "zanipy",
   "language": "python",
   "name": "zanipy"
  },
  "language_info": {
   "codemirror_mode": {
    "name": "ipython",
    "version": 3
   },
   "file_extension": ".py",
   "mimetype": "text/x-python",
   "name": "python",
   "nbconvert_exporter": "python",
   "pygments_lexer": "ipython3",
   "version": "3.10.6"
  },
  "org": null
 },
 "nbformat": 4,
 "nbformat_minor": 4
}
