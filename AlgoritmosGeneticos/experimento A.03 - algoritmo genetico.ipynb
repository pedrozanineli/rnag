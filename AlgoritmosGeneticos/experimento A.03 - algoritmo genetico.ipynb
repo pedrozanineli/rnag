{
 "cells": [
  {
   "cell_type": "markdown",
   "metadata": {},
   "source": [
    "Algoritmo genético\n",
    "==================\n",
    "\n"
   ]
  },
  {
   "cell_type": "markdown",
   "metadata": {},
   "source": [
    "## Introdução\n",
    "\n"
   ]
  },
  {
   "cell_type": "markdown",
   "metadata": {},
   "source": [
    "`Algoritmos genéticos` são algoritmos inspirados na teoria da evolução de Darwin e são ferramentas poderosas para resolver problemas de otimização. De maneira simples, a estratégia consiste em gerar uma população inicial aleatória e através de seleção, cruzamento e mutação sucessivas, gerar populações seguintes. Se feito de maneira correta, as populações seguintes tendem a ser melhores candidatos para a solução do problema do que as populações anteriores.\n",
    "\n",
    "Um algoritmo genético pode parecer um tanto complexo, porém é possível dividi-lo em partes relativamente simples:\n",
    "\n",
    "1.  Criação da população inicial (aleatória)\n",
    "\n",
    "2.  Cálculo da função objetivo para todos os membros da população inicial e atualização do hall da fama\n",
    "\n",
    "3.  Seleção dos indivíduos (quais seguem pra próxima geração)\n",
    "\n",
    "4.  Cruzamento dos indivíduos selecionados (troca de material genético)\n",
    "\n",
    "5.  Mutação dos indivíduos da população recém-criada (possibilidade de trazer informação nova ao sistema)\n",
    "\n",
    "6.  Cálculo da função objetivo para todos os membros da população recém-criada e atualização do hall da fama\n",
    "\n",
    "7.  Checar os critérios de parada. Caso os critérios não tenham sido atendidos, retornar ao passo 3\n",
    "\n",
    "8.  Retornar para o usuário o hall da fama\n",
    "\n"
   ]
  },
  {
   "cell_type": "markdown",
   "metadata": {},
   "source": [
    "## Glossário\n",
    "\n"
   ]
  },
  {
   "cell_type": "markdown",
   "metadata": {},
   "source": [
    "-   `Indivíduo`: um candidato para a solução do problema\n",
    "\n",
    "-   `População`: um conjunto de candidatos para a solução do problema\n",
    "\n",
    "-   `Gene`: um parâmetro que pertence a um indivíduo\n",
    "\n",
    "-   `Cromossomo` ou `genótipo`: um conjunto de genes\n",
    "\n",
    "-   `Geração`: cada população em uma busca genética faz parte de uma geração. A primeira geração é geralmente formada por indivíduos aleatórios (sorteados dentro do espaço de busca). As gerações seguintes são formadas por seleção, cruzamento e mutação da geração anterior. Um dos critérios de parada possíveis para um algoritmo genético é o número máximo de gerações\n",
    "\n",
    "-   `Função de aptidão` ou `função objetivo` ou `função fitness`: uma função que recebe um indivíduo e retorna o seu valor de aptidão. Em um problema de otimização, nós buscamos encontrar soluções que minimizam ou maximizam o valor de aptidão\n",
    "\n",
    "-   `Seleção`: processo onde utilizamos o valor de aptidão dos indivíduos para selecionar quais irão passar seus genes para a geração seguinte\n",
    "\n",
    "-   `Cruzamento`: processo onde o material genético de indivíduos selecionados é misturado\n",
    "\n",
    "-   `Mutação`: processo onde os genes dos indivíduos selecionados têm uma chance de alterar seu valor. A mutação é o único processo capaz de introduzir informação nova ao pool genético após o sorteio aleatório da primeira geração\n",
    "\n",
    "-   `Hall da fama`: conjunto dos $n$ indivíduos que obtiveram os melhores valores de aptidão durante o processo de busca\n",
    "\n"
   ]
  },
  {
   "cell_type": "markdown",
   "metadata": {},
   "source": [
    "## Reflexões\n",
    "\n"
   ]
  },
  {
   "cell_type": "markdown",
   "metadata": {},
   "source": [
    "Você diria que o algoritmo genético é determinístico ou probabilístico?\n",
    "\n",
    "Será que um algoritmo genético é capaz de encontrar mínimos (ou máximos) da função objetivo?\n",
    "\n",
    "O que será que acontece quando não realizamos a etapa de mutação do algoritmo genético?\n",
    "\n",
    "O que será que acontece quando usamos uma chance de mutação muito alta?\n",
    "\n"
   ]
  },
  {
   "cell_type": "markdown",
   "metadata": {},
   "source": [
    "## Objetivo\n",
    "\n"
   ]
  },
  {
   "cell_type": "markdown",
   "metadata": {},
   "source": [
    "Encontrar uma solução para o problema das caixas binárias usando o algoritmo genético. Considere 4 caixas.\n",
    "\n"
   ]
  },
  {
   "cell_type": "markdown",
   "metadata": {},
   "source": [
    "## Descrição do problema\n",
    "\n"
   ]
  },
  {
   "cell_type": "markdown",
   "metadata": {},
   "source": [
    "O problema das caixas binárias é simples: nós temos um certo número de caixas e cada uma pode conter um valor do conjunto $\\{0, 1\\}$. O objetivo é encontrar uma combinação de caixas onde a soma dos valores contidos dentro delas é máximo.\n",
    "\n"
   ]
  },
  {
   "cell_type": "markdown",
   "metadata": {},
   "source": [
    "## Importações\n",
    "\n"
   ]
  },
  {
   "cell_type": "code",
   "execution_count": 1,
   "metadata": {
    "tags": []
   },
   "outputs": [],
   "source": [
    "import random\n",
    "from funcoes import populacao_cb as cria_populacao_inicial\n",
    "from funcoes import funcao_objetivo_pop_cb as funcao_objetivo_pop\n",
    "from funcoes import selecao_roleta_max as funcao_selecao\n",
    "from funcoes import cruzamento_ponto_simples as funcao_cruzamento\n",
    "from funcoes import mutacao_cb as funcao_mutacao"
   ]
  },
  {
   "cell_type": "markdown",
   "metadata": {},
   "source": [
    "## Códigos e discussão\n",
    "\n"
   ]
  },
  {
   "cell_type": "markdown",
   "metadata": {},
   "source": [
    "Para o presente problema, uma nova abordagem, diferente da busca aleatório e da busca em grade será utilizada. Também utilizaremos conceitos de aleatoriedade, mas agora importados da biologia.\n",
    "\n",
    "Exemplos dessa aleatoriedade é o cruzamento entre dois indivíduos, que pode ser benéfico ao juntar o melhor que cada um pode oferecer, assim como a mutação, que pode gerar vantagens ao decorrer das gerações ao mudar valores gênicos.\n",
    "\n",
    "Por outro lado, é ainda importante perceber que esses fatores podem ir no sentido contrário, não encontrando respostas melhores, mas piores. É então necessário realizar uma seleção dos melhores por meio da utilização da função de roleta máxima."
   ]
  },
  {
   "cell_type": "code",
   "execution_count": 2,
   "metadata": {
    "tags": []
   },
   "outputs": [],
   "source": [
    "# Constantes\n",
    "\n",
    "TAMANHO_POP = 10\n",
    "NUM_GENES = 4\n",
    "NUM_GERACOES = 10\n",
    "CHANCE_CRUZAMENTO = 0.5\n",
    "CHANCE_MUTACAO = 0.05"
   ]
  },
  {
   "cell_type": "code",
   "execution_count": 3,
   "metadata": {
    "tags": []
   },
   "outputs": [
    {
     "name": "stdout",
     "output_type": "stream",
     "text": [
      "População inicial de pontuação igual a 29: \n",
      "[[0, 1, 0, 1], [1, 0, 0, 0], [0, 0, 0, 0], [1, 1, 0, 1], [1, 0, 1, 1], [0, 1, 0, 1], [1, 1, 0, 0], [0, 1, 1, 1], [0, 1, 1, 1], [0, 0, 0, 0]]\n",
      "\n",
      "Indivíduo mutado: [0, 1, 0, 1] [1, 1, 0, 1]\n",
      "Indivíduo mutado: [0, 1, 0, 1] [0, 1, 0, 1]\n",
      "Indivíduo mutado: [1, 1, 1, 1] [1, 1, 1, 0]\n",
      "Indivíduo mutado: [1, 1, 0, 1] [0, 1, 0, 1]\n",
      "Indivíduo mutado: [0, 1, 0, 1] [1, 1, 0, 1]\n",
      "\n",
      "População final de pontuação igual a 41: \n",
      "[[1, 1, 1, 1], [1, 1, 0, 1], [1, 1, 1, 1], [1, 1, 0, 1], [1, 1, 0, 1], [1, 1, 0, 1], [1, 1, 0, 1], [1, 1, 0, 1], [0, 1, 0, 1], [1, 1, 0, 1]]\n"
     ]
    }
   ],
   "source": [
    "populacao = cria_populacao_inicial(TAMANHO_POP, NUM_GENES)\n",
    "\n",
    "print(f'População inicial de pontuação igual a {sum(funcao_objetivo_pop(populacao))}: \\n{populacao}\\n')\n",
    "\n",
    "for _ in range(NUM_GERACOES):\n",
    "    fitness = funcao_objetivo_pop(populacao)\n",
    "    populacao = funcao_selecao(populacao,fitness)\n",
    "    \n",
    "    # Definição de pais e mães no código\n",
    "    # Pais são pares, mães são ímpares\n",
    "    \n",
    "    pais = populacao[0::2]\n",
    "    maes = populacao[1::2]\n",
    "    \n",
    "    contador = 0\n",
    "    \n",
    "    # Código responsável pelo cruzamento de indivíduos\n",
    "    \n",
    "    for pai, mae in zip(pais,maes):\n",
    "        if random.random() < CHANCE_CRUZAMENTO:\n",
    "            # Vai acontecer cruzamento\n",
    "            filho1, filho2 = funcao_cruzamento(pai,mae)\n",
    "            populacao[contador] = filho1\n",
    "            populacao[contador+1] = filho2\n",
    "        contador += 2\n",
    "    \n",
    "    # Código responsável pela mutação do indivíduo\n",
    "    # Se um número aleatório for menor que a chance de mutação\n",
    "    # A mutação irá ser aplicada ao indivíduo\n",
    "    \n",
    "    for n in range(len(populacao)):\n",
    "        if random.random() <= CHANCE_MUTACAO:\n",
    "            print(f'Indivíduo mutado: {populacao[n]}',end=' ')\n",
    "            populacao[n] = funcao_mutacao(populacao[n])\n",
    "            print(populacao[n])\n",
    "\n",
    "print(f'\\nPopulação final de pontuação igual a {sum(funcao_objetivo_pop(populacao))}: \\n{populacao}')"
   ]
  },
  {
   "cell_type": "markdown",
   "metadata": {},
   "source": [
    "## Conclusão\n",
    "\n",
    "Neste experimento, o problema das caixas binárias, que é um problema de maximização, foi resolvido por meio da utilização de algoritmos genéticos. Ou seja, foi utilizado ao decorrer do código os conceitos de gene, indivíduo, seleção, cruzamento e mutação.\n",
    "\n",
    "Em um primeiro contato com o algoritmo genético, o gene foi representado por um valor aleatório entre 0 e 1 e o indivíduo como um conjunto de genes - sequência de zeros e uns. O cruzamento de ponto simples foi utilizado assim como uma simples mutação de troca, de forma a alterar aleatoriamente um valor do gene. Além disso, a seleção de roleta máxima foi usada para seleção.\n",
    "\n",
    "É válido notar que para problemas mais simples como é o caso das caixas binárias, a solução pode ser evidente, sendo necessária apenas a escolha do valor máximo para cada gene. Porém, no contexto de aplicação computacional, tal compreensão não é convencional, sendo necessária a aplicação de uma abordagem que possa buscar uma solução para cada situação.\n",
    "\n",
    "Sendo assim, os algoritmos genéticos são uma das possíveis abordagens, de forma que nem todas as possibilidades sejam exploradas, mas a melhor opção dentre as buscadas seja escolhida. Isso pode inclusive ser percebido pela resposta encontrada, haja visto que o melhor indivíduo possível - um indivíduo que não contenha zeros, apenas uns - não foi encontrado, mas sim um melhor que o primeiro.\n",
    "\n",
    "Testes iniciais foram interessantes como forma de gerar dúvidas, já que pode ser um pouco contra intuitivo utilizar métodos que não busquem a melhor solução dentre todas. Porém, ao decorrer do desenvolvimento do problema, foi tornando-se mais claro que em diversos problemas é inviável a busca de todas as possibilidades, de forma que uma boa saída seja encontrar boas possíveis opções por meio de questões aleatórias, tais como as propostas por conceitos biológicos."
   ]
  },
  {
   "cell_type": "markdown",
   "metadata": {},
   "source": [
    "## Playground\n",
    "\n"
   ]
  },
  {
   "cell_type": "code",
   "execution_count": null,
   "metadata": {},
   "outputs": [],
   "source": []
  }
 ],
 "metadata": {
  "kernelspec": {
   "display_name": "zanipy",
   "language": "python",
   "name": "zanipy"
  },
  "language_info": {
   "codemirror_mode": {
    "name": "ipython",
    "version": 3
   },
   "file_extension": ".py",
   "mimetype": "text/x-python",
   "name": "python",
   "nbconvert_exporter": "python",
   "pygments_lexer": "ipython3",
   "version": "3.10.6"
  },
  "org": null
 },
 "nbformat": 4,
 "nbformat_minor": 4
}
