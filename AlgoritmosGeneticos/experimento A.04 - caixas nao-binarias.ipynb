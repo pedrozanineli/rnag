{
 "cells": [
  {
   "cell_type": "markdown",
   "metadata": {},
   "source": [
    "Problema das caixas não-binárias\n",
    "================================\n",
    "\n"
   ]
  },
  {
   "cell_type": "markdown",
   "metadata": {},
   "source": [
    "## Objetivo\n",
    "\n"
   ]
  },
  {
   "cell_type": "markdown",
   "metadata": {},
   "source": [
    "Encontrar uma solução para o problema das caixas não-binárias usando um algoritmo genético. Considere 4 caixas. Considere que cada caixa pode ter um valor inteiro dentro do conjunto [0, 100].\n",
    "\n"
   ]
  },
  {
   "cell_type": "markdown",
   "metadata": {},
   "source": [
    "## Descrição do problema\n",
    "\n"
   ]
  },
  {
   "cell_type": "markdown",
   "metadata": {},
   "source": [
    "O problema das caixas não-binárias é simples: nós temos um certo número de caixas e cada uma pode conter um número inteiro. O objetivo é encontrar uma combinação de caixas onde a soma dos valores contidos dentro delas é máximo.\n",
    "\n"
   ]
  },
  {
   "cell_type": "markdown",
   "metadata": {},
   "source": [
    "## Importações\n",
    "\n"
   ]
  },
  {
   "cell_type": "code",
   "execution_count": 1,
   "metadata": {},
   "outputs": [],
   "source": [
    "import random\n",
    "from funcoes import populacao_cnb\n",
    "from funcoes import funcao_objetivo_pop_cnb as funcao_objetivo_pop\n",
    "from funcoes import selecao_roleta_max as funcao_selecao\n",
    "from funcoes import cruzamento_ponto_simples as funcao_cruzamento\n",
    "from funcoes import mutacao_cnb"
   ]
  },
  {
   "cell_type": "markdown",
   "metadata": {},
   "source": [
    "## Códigos e discussão\n",
    "\n"
   ]
  },
  {
   "cell_type": "markdown",
   "metadata": {},
   "source": [
    "Assim como o experimento anterior das caixas binárias, o presente problema classifica-se como um problema de maximização, onde buscamos, então, maximizar a nossa função objetivo.\n",
    "\n",
    "De maneira similar, devemos buscar os indivíduos que tenham a maior quantidade de valores máximos, que neste caso, será o 100. Se, por exemplo, o valor máximo fosse mil, seria necessário então buscar a maior quantidade de indivíduos com o valor de mil, e assim por diante, sempre que o valor máximo for atualizado."
   ]
  },
  {
   "cell_type": "code",
   "execution_count": 2,
   "metadata": {},
   "outputs": [],
   "source": [
    "# Constantes\n",
    "\n",
    "# Valores relacionados à busca\n",
    "TAMANHO_POP = 10\n",
    "NUM_GERACOES = 5\n",
    "CHANCE_CRUZAMENTO = 0.5\n",
    "CHANCE_MUTACAO = 0.05\n",
    "\n",
    "# Valores relacionados ao problema a ser resolvido\n",
    "NUM_GENES = 4\n",
    "VALOR_MAX_CAIXA = 100"
   ]
  },
  {
   "cell_type": "code",
   "execution_count": 3,
   "metadata": {},
   "outputs": [],
   "source": [
    "def cria_populacao_inicial(tamanho, n_genes):\n",
    "    return populacao_cnb(tamanho, n_genes, VALOR_MAX_CAIXA)\n",
    "\n",
    "def funcao_mutacao(individuo):\n",
    "    return mutacao_cnb(individuo, VALOR_MAX_CAIXA)"
   ]
  },
  {
   "cell_type": "code",
   "execution_count": 4,
   "metadata": {},
   "outputs": [
    {
     "name": "stdout",
     "output_type": "stream",
     "text": [
      "População inicial de pontuação igual a 1740: \n",
      "[[73, 15, 68, 42], [33, 22, 90, 14], [69, 88, 54, 35], [12, 81, 9, 47], [2, 24, 1, 2], [24, 72, 46, 76], [31, 0, 5, 41], [47, 36, 51, 70], [92, 28, 23, 91], [37, 61, 80, 48]]\n",
      "\n",
      "Indivíduo mutado: [73, 15, 68, 42] [66, 15, 68, 42]\n",
      "Indivíduo mutado: [37, 61, 80, 48] [37, 31, 80, 48]\n",
      "Indivíduo mutado: [24, 72, 80, 48] [24, 5, 80, 48]\n",
      "\n",
      "População final de pontuação igual a 2296: \n",
      "[[37, 61, 80, 70], [37, 61, 51, 70], [31, 61, 51, 70], [37, 36, 80, 70], [37, 61, 80, 48], [37, 61, 80, 48], [37, 61, 80, 70], [37, 61, 80, 48], [37, 61, 51, 70], [37, 61, 80, 70]]\n"
     ]
    }
   ],
   "source": [
    "populacao = cria_populacao_inicial(TAMANHO_POP, NUM_GENES)\n",
    "\n",
    "print(f'População inicial de pontuação igual a {sum(funcao_objetivo_pop(populacao))}: \\n{populacao}\\n')\n",
    "\n",
    "for _ in range(NUM_GERACOES):\n",
    "    fitness = funcao_objetivo_pop(populacao)\n",
    "    populacao = funcao_selecao(populacao,fitness)\n",
    "    \n",
    "    # Pais são pares, mães são ímpares\n",
    "    pais = populacao[0::2]\n",
    "    maes = populacao[1::2]\n",
    "    \n",
    "    contador = 0\n",
    "    \n",
    "    for pai, mae in zip(pais,maes):\n",
    "        if random.random() < CHANCE_CRUZAMENTO:\n",
    "            # Vai acontecer cruzamento\n",
    "            filho1, filho2 = funcao_cruzamento(pai,mae)\n",
    "            populacao[contador] = filho1\n",
    "            populacao[contador+1] = filho2\n",
    "        contador += 2\n",
    "    \n",
    "    for n in range(len(populacao)):\n",
    "        if random.random() <= CHANCE_MUTACAO:\n",
    "            print(f'Indivíduo mutado: {populacao[n]}',end=' ')\n",
    "            populacao[n] = funcao_mutacao(populacao[n])\n",
    "            print(populacao[n])\n",
    "\n",
    "print(f'\\nPopulação final de pontuação igual a {sum(funcao_objetivo_pop(populacao))}: \\n{populacao}')"
   ]
  },
  {
   "cell_type": "markdown",
   "metadata": {},
   "source": [
    "## Conclusão\n",
    "\n",
    "No presente experimento, foi realizado uma busca similar ao das caixas não binárias, com a pequena diferença de que agora as caixas não precisam ser binárias. Dessa forma, valores entre 0 e 100 foram considerados.\n",
    "\n",
    "Assim como o problema das caixas binárias, que é um problema de maximização, o problema das caixas não binárias é também um problema em que se busca uma maximização. O valor máximo não é mais um, mas sim cem, de forma que os melhores indivíduos sejam aqueles que detenham a maior quantidade desse valor.\n",
    "\n",
    "Por fim, é possível concluir que o problema das caixas não binárias também foi resolvido utilizando os conceitos de gene, indivíduo, seleção, mutação e cruzamento. Algo importante possível de notar foi o fato de que em casos com maior taxa de cruzamento, menor número de indivíduos e maior número de gerações, os indivíduos passavam a convergir para valores semelhantes, tendo em alguns casos todos os indivíduos da população iguais. Dessa forma, fica evidente a escolha mais apropriada das constantes para cada problema."
   ]
  },
  {
   "cell_type": "markdown",
   "metadata": {},
   "source": [
    "## Playground\n",
    "\n"
   ]
  },
  {
   "cell_type": "code",
   "execution_count": null,
   "metadata": {},
   "outputs": [],
   "source": []
  }
 ],
 "metadata": {
  "kernelspec": {
   "display_name": "zanipy",
   "language": "python",
   "name": "zanipy"
  },
  "language_info": {
   "codemirror_mode": {
    "name": "ipython",
    "version": 3
   },
   "file_extension": ".py",
   "mimetype": "text/x-python",
   "name": "python",
   "nbconvert_exporter": "python",
   "pygments_lexer": "ipython3",
   "version": "3.10.6"
  },
  "org": null
 },
 "nbformat": 4,
 "nbformat_minor": 4
}
