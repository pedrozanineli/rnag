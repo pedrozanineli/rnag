{
 "cells": [
  {
   "cell_type": "markdown",
   "metadata": {},
   "source": [
    "Problema das caixas não-binárias\n",
    "================================\n",
    "\n"
   ]
  },
  {
   "cell_type": "markdown",
   "metadata": {},
   "source": [
    "## Objetivo\n",
    "\n"
   ]
  },
  {
   "cell_type": "markdown",
   "metadata": {},
   "source": [
    "Encontrar uma solução para o problema das caixas não-binárias usando um algoritmo genético. Considere 4 caixas. Considere que cada caixa pode ter um valor inteiro dentro do conjunto [0, 100].\n",
    "\n"
   ]
  },
  {
   "cell_type": "markdown",
   "metadata": {},
   "source": [
    "## Descrição do problema\n",
    "\n"
   ]
  },
  {
   "cell_type": "markdown",
   "metadata": {},
   "source": [
    "O problema das caixas não-binárias é simples: nós temos um certo número de caixas e cada uma pode conter um número inteiro. O objetivo é encontrar uma combinação de caixas onde a soma dos valores contidos dentro delas é máximo.\n",
    "\n"
   ]
  },
  {
   "cell_type": "markdown",
   "metadata": {},
   "source": [
    "## Importações\n",
    "\n"
   ]
  },
  {
   "cell_type": "code",
   "execution_count": 1,
   "metadata": {},
   "outputs": [],
   "source": [
    "import random\n",
    "from funcoes import populacao_cnb\n",
    "from funcoes import funcao_objetivo_pop_cnb as funcao_objetivo_pop\n",
    "from funcoes import selecao_roleta_max as funcao_selecao\n",
    "from funcoes import cruzamento_ponto_simples as funcao_cruzamento\n",
    "from funcoes import mutacao_cnb"
   ]
  },
  {
   "cell_type": "markdown",
   "metadata": {},
   "source": [
    "## Códigos e discussão\n",
    "\n"
   ]
  },
  {
   "cell_type": "code",
   "execution_count": 2,
   "metadata": {},
   "outputs": [],
   "source": [
    "# Constantes\n",
    "\n",
    "TAMANHO_POP = 10\n",
    "NUM_GENES = 4\n",
    "NUM_GERACOES = 5\n",
    "CHANCE_CRUZAMENTO = 0.5\n",
    "CHANCE_MUTACAO = 0.05\n",
    "VALOR_MAX_CAIXA = 100"
   ]
  },
  {
   "cell_type": "code",
   "execution_count": 3,
   "metadata": {},
   "outputs": [],
   "source": [
    "def cria_populacao_inicial(tamanho, n_genes):\n",
    "    return populacao_cnb(tamanho, n_genes, VALOR_MAX_CAIXA)\n",
    "\n",
    "def funcao_mutacao(individuo):\n",
    "    return mutacao_cnb(individuo, VALOR_MAX_CAIXA)"
   ]
  },
  {
   "cell_type": "code",
   "execution_count": 8,
   "metadata": {},
   "outputs": [
    {
     "name": "stdout",
     "output_type": "stream",
     "text": [
      "População inicial de pontuação igual a 2010: \n",
      "[[36, 55, 94, 43], [79, 30, 61, 23], [10, 67, 46, 90], [46, 51, 80, 20], [89, 32, 28, 21], [53, 79, 63, 64], [9, 95, 44, 30], [8, 71, 70, 16], [66, 92, 47, 6], [1, 100, 16, 69]]\n",
      "\n",
      "Indivíduo mutado: [1, 100, 16, 69] [1, 23, 16, 69]\n",
      "Indivíduo mutado: [9, 95, 44, 23] [9, 95, 44, 43]\n",
      "Indivíduo mutado: [36, 30, 46, 90] [36, 62, 46, 90]\n",
      "Indivíduo mutado: [79, 30, 46, 90] [79, 30, 46, 14]\n",
      "Indivíduo mutado: [53, 79, 63, 43] [53, 79, 69, 43]\n",
      "\n",
      "População final de pontuação igual a 2536: \n",
      "[[36, 55, 94, 64], [79, 30, 46, 90], [79, 55, 94, 64], [36, 55, 94, 64], [53, 79, 63, 64], [36, 62, 46, 14], [79, 30, 46, 90], [79, 55, 94, 64], [79, 30, 46, 90], [79, 55, 94, 64]]\n"
     ]
    }
   ],
   "source": [
    "populacao = cria_populacao_inicial(TAMANHO_POP, NUM_GENES)\n",
    "\n",
    "print(f'População inicial de pontuação igual a {sum(funcao_objetivo_pop(populacao))}: \\n{populacao}\\n')\n",
    "\n",
    "for _ in range(NUM_GERACOES):\n",
    "    fitness = funcao_objetivo_pop(populacao)\n",
    "    populacao = funcao_selecao(populacao,fitness)\n",
    "    \n",
    "    # Pais são pares, mães são ímpares\n",
    "    pais = populacao[0::2]\n",
    "    maes = populacao[1::2]\n",
    "    \n",
    "    contador = 0\n",
    "    \n",
    "    for pai, mae in zip(pais,maes):\n",
    "        if random.random() < CHANCE_CRUZAMENTO:\n",
    "            # Vai acontecer cruzamento\n",
    "            filho1, filho2 = funcao_cruzamento(pai,mae)\n",
    "            populacao[contador] = filho1\n",
    "            populacao[contador+1] = filho2\n",
    "        contador += 2\n",
    "    \n",
    "    for n in range(len(populacao)):\n",
    "        if random.random() <= CHANCE_MUTACAO:\n",
    "            print(f'Indivíduo mutado: {populacao[n]}',end=' ')\n",
    "            populacao[n] = funcao_mutacao(populacao[n])\n",
    "            print(populacao[n])\n",
    "\n",
    "print(f'\\nPopulação final de pontuação igual a {sum(funcao_objetivo_pop(populacao))}: \\n{populacao}')"
   ]
  },
  {
   "cell_type": "markdown",
   "metadata": {},
   "source": [
    "## Conclusão\n",
    "\n",
    "É possível concluir que o problema das caixas não binárias foi resolvido utilizando os conceitos de seleção, mutação e cruzamento. Algo importante possível de notar foi o fato de que em casos com maior taxa de cruzamento, menor número de indivíduos e maior número de gerações, os indivíduos passavam a convergir para valores semelhantes, tendo em alguns casos todos os indivíduos da população iguais. Dessa forma, fica evidente a escolha mais apropriada das constantes para cada problema."
   ]
  },
  {
   "cell_type": "markdown",
   "metadata": {},
   "source": [
    "## Playground\n",
    "\n"
   ]
  },
  {
   "cell_type": "code",
   "execution_count": null,
   "metadata": {},
   "outputs": [],
   "source": []
  }
 ],
 "metadata": {
  "kernelspec": {
   "display_name": "ilumpy",
   "language": "python",
   "name": "ilumpy"
  },
  "language_info": {
   "codemirror_mode": {
    "name": "ipython",
    "version": 3
   },
   "file_extension": ".py",
   "mimetype": "text/x-python",
   "name": "python",
   "nbconvert_exporter": "python",
   "pygments_lexer": "ipython3",
   "version": "3.9.7"
  },
  "org": null
 },
 "nbformat": 4,
 "nbformat_minor": 4
}
