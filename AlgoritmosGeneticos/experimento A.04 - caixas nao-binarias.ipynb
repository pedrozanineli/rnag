{
 "cells": [
  {
   "cell_type": "markdown",
   "metadata": {},
   "source": [
    "Problema das caixas não-binárias\n",
    "================================\n",
    "\n"
   ]
  },
  {
   "cell_type": "markdown",
   "metadata": {},
   "source": [
    "## Objetivo\n",
    "\n"
   ]
  },
  {
   "cell_type": "markdown",
   "metadata": {},
   "source": [
    "Encontrar uma solução para o problema das caixas não-binárias usando um algoritmo genético. Considere 4 caixas. Considere que cada caixa pode ter um valor inteiro dentro do conjunto [0, 100].\n",
    "\n"
   ]
  },
  {
   "cell_type": "markdown",
   "metadata": {},
   "source": [
    "## Descrição do problema\n",
    "\n"
   ]
  },
  {
   "cell_type": "markdown",
   "metadata": {},
   "source": [
    "O problema das caixas não-binárias é simples: nós temos um certo número de caixas e cada uma pode conter um número inteiro. O objetivo é encontrar uma combinação de caixas onde a soma dos valores contidos dentro delas é máximo.\n",
    "\n"
   ]
  },
  {
   "cell_type": "markdown",
   "metadata": {},
   "source": [
    "## Importações\n",
    "\n"
   ]
  },
  {
   "cell_type": "code",
   "execution_count": 1,
   "metadata": {},
   "outputs": [],
   "source": [
    "import random\n",
    "from funcoes import populacao_cnb as cria_populacao_inicial\n",
    "from funcoes import funcao_objetivo_pop_cb as funcao_objetivo_pop\n",
    "from funcoes import selecao_roleta_max as funcao_selecao\n",
    "from funcoes import cruzamento_ponto_simples as funcao_cruzamento\n",
    "from funcoes import mutacao_cnb as funcao_mutacao"
   ]
  },
  {
   "cell_type": "markdown",
   "metadata": {},
   "source": [
    "## Códigos e discussão\n",
    "\n"
   ]
  },
  {
   "cell_type": "code",
   "execution_count": 6,
   "metadata": {},
   "outputs": [],
   "source": [
    "# Constantes\n",
    "\n",
    "TAMANHO_POP = 10\n",
    "NUM_GENES = 4\n",
    "NUM_GERACOES = 10\n",
    "CHANCE_CRUZAMENTO = 0.5\n",
    "CHANCE_MUTACAO = 0.05"
   ]
  },
  {
   "cell_type": "code",
   "execution_count": 7,
   "metadata": {},
   "outputs": [
    {
     "name": "stdout",
     "output_type": "stream",
     "text": [
      "População inicial de pontuação igual a 1894: \n",
      "[[89, 97, 33, 51], [9, 11, 62, 39], [2, 91, 65, 8], [50, 96, 58, 27], [92, 31, 33, 48], [53, 83, 13, 95], [4, 31, 13, 4], [81, 89, 32, 66], [69, 16, 21, 1], [78, 9, 55, 89]]\n",
      "\n",
      "Indivíduo mutado: [89, 97, 55, 89] [89, 97, 26, 89]\n",
      "Indivíduo mutado: [89, 97, 33, 51] [89, 97, 33, 57]\n",
      "Indivíduo mutado: [89, 96, 58, 89] [91, 96, 58, 89]\n",
      "Indivíduo mutado: [89, 97, 58, 89] [89, 97, 58, 18]\n",
      "\n",
      "População final de pontuação igual a 2726: \n",
      "[[91, 97, 33, 57], [89, 97, 33, 57], [89, 96, 33, 89], [89, 97, 58, 57], [91, 97, 33, 57], [89, 97, 58, 18], [89, 96, 58, 57], [78, 9, 55, 27], [91, 97, 33, 57], [91, 96, 33, 57]]\n"
     ]
    }
   ],
   "source": [
    "populacao = cria_populacao_inicial(TAMANHO_POP, NUM_GENES)\n",
    "\n",
    "print(f'População inicial de pontuação igual a {sum(funcao_objetivo_pop(populacao))}: \\n{populacao}\\n')\n",
    "\n",
    "for _ in range(NUM_GERACOES):\n",
    "    fitness = funcao_objetivo_pop(populacao)\n",
    "    populacao = funcao_selecao(populacao,fitness)\n",
    "    \n",
    "    # Pais são pares, mães são ímpares\n",
    "    pais = populacao[0::2]\n",
    "    maes = populacao[1::2]\n",
    "    \n",
    "    contador = 0\n",
    "    \n",
    "    for pai, mae in zip(pais,maes):\n",
    "        if random.random() < CHANCE_CRUZAMENTO:\n",
    "            # Vai acontecer cruzamento\n",
    "            filho1, filho2 = funcao_cruzamento(pai,mae)\n",
    "            populacao[contador] = filho1\n",
    "            populacao[contador+1] = filho2\n",
    "        contador += 2\n",
    "    \n",
    "    for n in range(len(populacao)):\n",
    "        if random.random() <= CHANCE_MUTACAO:\n",
    "            print(f'Indivíduo mutado: {populacao[n]}',end=' ')\n",
    "            populacao[n] = funcao_mutacao(populacao[n])\n",
    "            print(populacao[n])\n",
    "\n",
    "print(f'\\nPopulação final de pontuação igual a {sum(funcao_objetivo_pop(populacao))}: \\n{populacao}')"
   ]
  },
  {
   "cell_type": "markdown",
   "metadata": {},
   "source": [
    "## Conclusão\n",
    "\n"
   ]
  },
  {
   "cell_type": "markdown",
   "metadata": {},
   "source": [
    "## Playground\n",
    "\n"
   ]
  },
  {
   "cell_type": "code",
   "execution_count": null,
   "metadata": {},
   "outputs": [],
   "source": []
  }
 ],
 "metadata": {
  "kernelspec": {
   "display_name": "ilumpy",
   "language": "python",
   "name": "ilumpy"
  },
  "language_info": {
   "codemirror_mode": {
    "name": "ipython",
    "version": 3
   },
   "file_extension": ".py",
   "mimetype": "text/x-python",
   "name": "python",
   "nbconvert_exporter": "python",
   "pygments_lexer": "ipython3",
   "version": "3.9.7"
  },
  "org": null
 },
 "nbformat": 4,
 "nbformat_minor": 4
}
